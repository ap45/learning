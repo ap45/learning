{
  "nbformat": 4,
  "nbformat_minor": 0,
  "metadata": {
    "colab": {
      "provenance": [],
      "include_colab_link": true
    },
    "language_info": {
      "name": "python"
    },
    "kernelspec": {
      "name": "python3",
      "display_name": "Python 3"
    }
  },
  "cells": [
    {
      "cell_type": "markdown",
      "metadata": {
        "id": "view-in-github",
        "colab_type": "text"
      },
      "source": [
        "<a href=\"https://colab.research.google.com/github/ap45/learning/blob/main/Arpit_CountFrequencyBasic.ipynb\" target=\"_parent\"><img src=\"https://colab.research.google.com/assets/colab-badge.svg\" alt=\"Open In Colab\"/></a>"
      ]
    },
    {
      "cell_type": "markdown",
      "metadata": {
        "id": "xjDf4YhXPdwR"
      },
      "source": [
        "# CountFrequencyBasic\n",
        "\n",
        "This notebook explains the CountFrequencyBasic script with line-by-line annotations.\n",
        "\n",
        "This code counts word frequencies in a text file (`words_5000.txt`) using a basic approach.\n",
        "\n",
        "  - Reads a file and tokenizes its content using punctuation and whitespace as delimiters.\n",
        "  - Converts tokens to lowercase and filters out non-alphanumeric words.\n",
        "  - Constructs a frequency dictionary by iterating over the vocabulary and counting occurrences of each word.\n",
        "  - Measures and prints the time taken for execution.\n",
        "\n",
        "Please upload the words_5000.txt file using the Files tab on the left in Google Colab (click the folder icon, then 'Upload files'). Remember, the file will be deleted when the session ends and each time you run the file, you need to re-upload.\n"
      ]
    },
    {
      "cell_type": "code",
      "source": [],
      "metadata": {
        "id": "2TVhm1-wEwRA"
      },
      "execution_count": null,
      "outputs": []
    },
    {
      "cell_type": "markdown",
      "metadata": {
        "id": "Fd_eqQTzPdwc"
      },
      "source": [
        "Imports the re, string, and time modules."
      ]
    },
    {
      "cell_type": "code",
      "metadata": {
        "id": "FWvbyNe_Pdwc"
      },
      "execution_count": null,
      "outputs": [],
      "source": [
        "import re\n"
      ]
    },
    {
      "cell_type": "code",
      "metadata": {
        "id": "stkauJo9Pdwe"
      },
      "execution_count": null,
      "outputs": [],
      "source": [
        "import string\n"
      ]
    },
    {
      "cell_type": "code",
      "metadata": {
        "id": "_xQyEx3SPdw4"
      },
      "execution_count": null,
      "outputs": [],
      "source": [
        "import time\n"
      ]
    },
    {
      "cell_type": "markdown",
      "metadata": {
        "id": "Twf1VmkFPdw4"
      },
      "source": [
        "Records the start time of the program execution."
      ]
    },
    {
      "cell_type": "markdown",
      "metadata": {
        "id": "30j4ZRS2Pdw5"
      },
      "source": [
        "Specifies the filename containing the text data."
      ]
    },
    {
      "cell_type": "code",
      "metadata": {
        "id": "vC2vZxlNPdw6"
      },
      "execution_count": null,
      "outputs": [],
      "source": [
        "startTime = time.perf_counter()\n"
      ]
    },
    {
      "cell_type": "markdown",
      "metadata": {
        "id": "aZcxgS_qPdw6"
      },
      "source": [
        "Opens the file for reading with UTF-8 encoding and reads its content."
      ]
    },
    {
      "cell_type": "code",
      "metadata": {
        "id": "voyA2AyMPdw6"
      },
      "execution_count": null,
      "outputs": [],
      "source": [
        "filename = \"words_5000.txt\"\n"
      ]
    },
    {
      "cell_type": "code",
      "metadata": {
        "id": "PAhjTiUiPdw7"
      },
      "execution_count": null,
      "outputs": [],
      "source": [
        "file = open(filename,  'r', encoding='UTF-8')\n"
      ]
    },
    {
      "cell_type": "markdown",
      "metadata": {
        "id": "ZWjVyEhDPdw7"
      },
      "source": [
        "Closes the file to release resources."
      ]
    },
    {
      "cell_type": "code",
      "metadata": {
        "id": "7BhXJNitPdw7"
      },
      "execution_count": null,
      "outputs": [],
      "source": [
        "words = file.read()\n"
      ]
    },
    {
      "cell_type": "code",
      "metadata": {
        "id": "Pp1FkwZcPdw8"
      },
      "execution_count": null,
      "outputs": [],
      "source": [
        "file.close()\n"
      ]
    },
    {
      "cell_type": "markdown",
      "metadata": {
        "id": "51tbcaPvPdw8"
      },
      "source": [
        "Defines a regular expression to split text into tokens based on punctuation and whitespace."
      ]
    },
    {
      "cell_type": "code",
      "metadata": {
        "id": "aCAp-bFcPdw8"
      },
      "execution_count": null,
      "outputs": [],
      "source": [
        "\n"
      ]
    },
    {
      "cell_type": "markdown",
      "metadata": {
        "id": "4DGDsP_LPdw9"
      },
      "source": [
        "Tokenizes the text, converts tokens to lowercase, and filters out non-alphanumeric tokens."
      ]
    },
    {
      "cell_type": "code",
      "metadata": {
        "id": "RoAj2UIUPdw9"
      },
      "execution_count": null,
      "outputs": [],
      "source": [
        "splitable = '[' + string.punctuation + string.whitespace + ']'\n"
      ]
    },
    {
      "cell_type": "code",
      "metadata": {
        "id": "WzdSsjJZPdw9"
      },
      "execution_count": null,
      "outputs": [],
      "source": [
        "tokens = re.split(splitable, words)\n"
      ]
    },
    {
      "cell_type": "markdown",
      "metadata": {
        "id": "bMjyOSvMPdw9"
      },
      "source": [
        "Prints the total number of tokens (words) in the file."
      ]
    },
    {
      "cell_type": "code",
      "metadata": {
        "id": "RDYoxLS-Pdw-"
      },
      "execution_count": null,
      "outputs": [],
      "source": [
        "tokens = [s.lower() for s in tokens if s.isalnum()]\n"
      ]
    },
    {
      "cell_type": "code",
      "metadata": {
        "id": "r2wacGojPdw-",
        "colab": {
          "base_uri": "https://localhost:8080/"
        },
        "outputId": "7b71e0d3-13da-4f02-f7c7-36eeb2607276"
      },
      "execution_count": null,
      "outputs": [
        {
          "output_type": "stream",
          "name": "stdout",
          "text": [
            "['moby', 'dick', 'or', 'the', 'whale', 'by', 'herman', 'melville', 'contents', 'etymology', 'extracts', 'supplied', 'by', 'a', 'sub', 'sub', 'librarian', 'chapter', '1', 'loomings', 'chapter', '2', 'the', 'carpet', 'bag', 'chapter', '3', 'the', 'spouter', 'inn', 'chapter', '4', 'the', 'counterpane', 'chapter', '5', 'breakfast', 'chapter', '6', 'the', 'street', 'chapter', '7', 'the', 'chapel', 'chapter', '8', 'the', 'pulpit', 'chapter', '9', 'the', 'sermon', 'chapter', '10', 'a', 'bosom', 'friend', 'chapter', '11', 'nightgown', 'chapter', '12', 'biographical', 'chapter', '13', 'wheelbarrow', 'chapter', '14', 'nantucket', 'chapter', '15', 'chowder', 'chapter', '16', 'the', 'ship', 'chapter', '17', 'the', 'ramadan', 'chapter', '18', 'his', 'mark', 'chapter', '19', 'the', 'prophet', 'chapter', '20', 'all', 'astir', 'chapter', '21', 'going', 'aboard', 'chapter', '22', 'merry', 'christmas', 'chapter', '23', 'the', 'lee', 'shore', 'chapter', '24', 'the', 'advocate', 'chapter', '25', 'postscript', 'chapter', '26', 'knights', 'and', 'squires', 'chapter', '27', 'knights', 'and', 'squires', 'chapter', '28', 'ahab', 'chapter', '29', 'enter', 'ahab', 'to', 'him', 'stubb', 'chapter', '30', 'the', 'pipe', 'chapter', '31', 'queen', 'mab', 'chapter', '32', 'cetology', 'chapter', '33', 'the', 'specksnyder', 'chapter', '34', 'the', 'cabin', 'table', 'chapter', '35', 'the', 'mast', 'head', 'chapter', '36', 'the', 'quarter', 'deck', 'chapter', '37', 'sunset', 'chapter', '38', 'dusk', 'chapter', '39', 'first', 'night', 'watch', 'chapter', '40', 'midnight', 'forecastle', 'chapter', '41', 'moby', 'dick', 'chapter', '42', 'the', 'whiteness', 'of', 'the', 'whale', 'chapter', '43', 'hark', 'chapter', '44', 'the', 'chart', 'chapter', '45', 'the', 'affidavit', 'chapter', '46', 'surmises', 'chapter', '47', 'the', 'mat', 'maker', 'chapter', '48', 'the', 'first', 'lowering', 'chapter', '49', 'the', 'hyena', 'chapter', '50', 'boat', 'and', 'crew', 'fedallah', 'chapter', '51', 'the', 'spirit', 'spout', 'chapter', '52', 'the', 'albatross', 'chapter', '53', 'the', 'gam', 'chapter', '54', 'the', 'town', 'story', 'chapter', '55', 'of', 'the', 'monstrous', 'pictures', 'of', 'whales', 'chapter', '56', 'of', 'the', 'less', 'erroneous', 'pictures', 'of', 'whales', 'and', 'the', 'true', 'pictures', 'of', 'whaling', 'scenes', 'chapter', '57', 'of', 'whales', 'in', 'paint', 'in', 'teeth', 'in', 'wood', 'in', 'sheet', 'iron', 'in', 'stone', 'in', 'mountains', 'in', 'stars', 'chapter', '58', 'brit', 'chapter', '59', 'squid', 'chapter', '60', 'the', 'line', 'chapter', '61', 'stubb', 'kills', 'a', 'whale', 'chapter', '62', 'the', 'dart', 'chapter', '63', 'the', 'crotch', 'chapter', '64', 'supper', 'chapter', '65', 'the', 'whale', 'as', 'a', 'dish', 'chapter', '66', 'the', 'shark', 'massacre', 'chapter', '67', 'cutting', 'in', 'chapter', '68', 'the', 'blanket', 'chapter', '69', 'the', 'funeral', 'chapter', '70', 'the', 'sphynx', 'chapter', '71', 'the', 'story', 'chapter', '72', 'the', 'monkey', 'rope', 'chapter', '73', 'stubb', 'and', 'flask', 'kill', 'a', 'right', 'whale', 'and', 'then', 'have', 'a', 'talk', 'over', 'him', 'chapter', '74', 'the', 'sperm', 'view', 'chapter', '75', 'the', 'right', 'view', 'chapter', '76', 'the', 'battering', 'ram', 'chapter', '77', 'the', 'great', 'heidelburgh', 'tun', 'chapter', '78', 'cistern', 'and', 'buckets', 'chapter', '79', 'the', 'prairie', 'chapter', '80', 'the', 'nut', 'chapter', '81', 'the', 'pequod', 'meets', 'the', 'virgin', 'chapter', '82', 'the', 'honor', 'and', 'glory', 'of', 'whaling', 'chapter', '83', 'jonah', 'historically', 'regarded', 'chapter', '84', 'pitchpoling', 'chapter', '85', 'the', 'fountain', 'chapter', '86', 'the', 'tail', 'chapter', '87', 'the', 'grand', 'armada', 'chapter', '88', 'schools', 'and', 'schoolmasters', 'chapter', '89', 'fast', 'fish', 'and', 'loose', 'fish', 'chapter', '90', 'heads', 'or', 'tails', 'chapter', '91', 'the', 'pequod', 'meets', 'the', 'rose', 'bud', 'chapter', '92', 'ambergris', 'chapter', '93', 'the', 'castaway', 'chapter', '94', 'a', 'squeeze', 'of', 'the', 'hand', 'chapter', '95', 'the', 'cassock', 'chapter', '96', 'the', 'try', 'works', 'chapter', '97', 'the', 'lamp', 'chapter', '98', 'stowing', 'down', 'and', 'clearing', 'up', 'chapter', '99', 'the', 'doubloon', 'chapter', '100', 'leg', 'and', 'arm', 'chapter', '101', 'the', 'decanter', 'chapter', '102', 'a', 'bower', 'in', 'the', 'arsacides', 'chapter', '103', 'measurement', 'of', 'the', 'skeleton', 'chapter', '104', 'the', 'fossil', 'whale', 'chapter', '105', 'does', 'the', 'magnitude', 'diminish', 'he', 'perish', 'chapter', '106', 'leg', 'chapter', '107', 'the', 'carpenter', 'chapter', '108', 'ahab', 'and', 'the', 'carpenter', 'chapter', '109', 'ahab', 'and', 'starbuck', 'in', 'the', 'cabin', 'chapter', '110', 'queequeg', 'in', 'his', 'coffin', 'chapter', '111', 'the', 'pacific', 'chapter', '112', 'the', 'blacksmith', 'chapter', '113', 'the', 'forge', 'chapter', '114', 'the', 'gilder', 'chapter', '115', 'the', 'pequod', 'meets', 'the', 'bachelor', 'chapter', '116', 'the', 'dying', 'whale', 'chapter', '117', 'the', 'whale', 'watch', 'chapter', '118', 'the', 'quadrant', 'chapter', '119', 'the', 'candles', 'chapter', '120', 'the', 'deck', 'towards', 'the', 'end', 'of', 'the', 'first', 'night', 'watch', 'chapter', '121', 'midnight', 'forecastle', 'bulwarks', 'chapter', '122', 'midnight', 'aloft', 'and', 'lightning', 'chapter', '123', 'the', 'musket', 'chapter', '124', 'the', 'needle', 'chapter', '125', 'the', 'log', 'and', 'line', 'chapter', '126', 'the', 'life', 'buoy', 'chapter', '127', 'the', 'deck', 'chapter', '128', 'the', 'pequod', 'meets', 'the', 'rachel', 'chapter', '129', 'the', 'cabin', 'chapter', '130', 'the', 'hat', 'chapter', '131', 'the', 'pequod', 'meets', 'the', 'delight', 'chapter', '132', 'the', 'symphony', 'chapter', '133', 'the', 'day', 'chapter', '134', 'the', 'day', 'chapter', '135', 'the', 'chase', 'day', 'epilogue', 'original', 'notes', 'this', 'text', 'is', 'a', 'combination', 'of', 'etexts', 'one', 'from', 'the', 'now', 'defunct', 'eris', 'project', 'at', 'virginia', 'tech', 'and', 'one', 'from', 'project', 'archives', 'the', 'proofreaders', 'of', 'this', 'version', 'are', 'indebted', 'to', 'the', 'university', 'of', 'adelaide', 'library', 'for', 'preserving', 'the', 'virginia', 'tech', 'version', 'the', 'resulting', 'etext', 'was', 'compared', 'with', 'a', 'public', 'domain', 'hard', 'copy', 'version', 'of', 'the', 'text', 'etymology', 'supplied', 'by', 'a', 'late', 'consumptive', 'usher', 'to', 'a', 'grammar', 'school', 'the', 'pale', 'in', 'coat', 'heart', 'body', 'and', 'brain', 'i', 'see', 'him', 'now', 'he', 'was', 'ever', 'dusting', 'his', 'old', 'lexicons', 'and', 'grammars', 'with', 'a', 'queer', 'handkerchief', 'mockingly', 'embellished', 'with', 'all', 'the', 'gay', 'flags', 'of', 'all', 'the', 'known', 'nations', 'of', 'the', 'world', 'he', 'loved', 'to', 'dust', 'his', 'old', 'grammars', 'it', 'somehow', 'mildly', 'reminded', 'him', 'of', 'his', 'mortality', 'you', 'take', 'in', 'hand', 'to', 'school', 'others', 'and', 'to', 'teach', 'them', 'by', 'what', 'name', 'a', 'whale', 'fish', 'is', 'to', 'be', 'called', 'in', 'our', 'tongue', 'leaving', 'out', 'through', 'ignorance', 'the', 'letter', 'h', 'which', 'almost', 'alone', 'maketh', 'up', 'the', 'signification', 'of', 'the', 'word', 'you', 'deliver', 'that', 'which', 'is', 'not', 'true', 'hackluyt', 'sw', 'and', 'dan', 'hval', 'this', 'animal', 'is', 'named', 'from', 'roundness', 'or', 'rolling', 'for', 'in', 'dan', 'hvalt', 'is', 'arched', 'or', 'vaulted', 'dictionary', 'it', 'is', 'more', 'immediately', 'from', 'the', 'dut', 'and', 'ger', 'wallen', 'a', 's', 'walw', 'ian', 'to', 'roll', 'to', 'wallow', 'dictionary', 'חו', 'hebrew', 'ϰητος', 'greek', 'cetus', 'latin', 'whœl', 'anglo', 'saxon', 'hvalt', 'danish', 'wal', 'dutch', 'hwal', 'swedish', 'whale', 'icelandic', 'whale', 'english', 'ballena', 'spanish', 'pekee', 'nuee', 'nuee', 'fegee', 'pehee', 'nuee', 'nuee', 'erromangoan', 'extracts', 'supplied', 'by', 'a', 'sub', 'sub', 'librarian', 'it', 'will', 'be', 'seen', 'that', 'this', 'mere', 'painstaking', 'burrower', 'and', 'grub', 'worm', 'of', 'a', 'poor', 'devil', 'of', 'a', 'sub', 'sub', 'appears', 'to', 'have', 'gone', 'through', 'the', 'long', 'vaticans', 'and', 'street', 'stalls', 'of', 'the', 'earth', 'picking', 'up', 'whatever', 'random', 'allusions', 'to', 'whales', 'he', 'could', 'anyways', 'find', 'in', 'any', 'book', 'whatsoever', 'sacred', 'or', 'profane', 'therefore', 'you', 'must', 'not', 'in', 'every', 'case', 'at', 'least', 'take', 'the', 'higgledy', 'piggledy', 'whale', 'statements', 'however', 'authentic', 'in', 'these', 'extracts', 'for', 'veritable', 'gospel', 'cetology', 'far', 'from', 'it', 'as', 'touching', 'the', 'ancient', 'authors', 'generally', 'as', 'well', 'as', 'the', 'poets', 'here', 'appearing', 'these', 'extracts', 'are', 'solely', 'valuable', 'or', 'entertaining', 'as', 'affording', 'a', 'glancing', 'eye', 'view', 'of', 'what', 'has', 'been', 'promiscuously', 'said', 'thought', 'fancied', 'and', 'sung', 'of', 'leviathan', 'by', 'many', 'nations', 'and', 'generations', 'including', 'our', 'own', 'so', 'fare', 'thee', 'well', 'poor', 'devil', 'of', 'a', 'sub', 'sub', 'whose', 'commentator', 'i', 'am', 'thou', 'belongest', 'to', 'that', 'hopeless', 'sallow', 'tribe', 'which', 'no', 'wine', 'of', 'this', 'world', 'will', 'ever', 'warm', 'and', 'for', 'whom', 'even', 'pale', 'sherry', 'would', 'be', 'too', 'rosy', 'strong', 'but', 'with', 'whom', 'one', 'sometimes', 'loves', 'to', 'sit', 'and', 'feel', 'poor', 'devilish', 'too', 'and', 'grow', 'convivial', 'upon', 'tears', 'and', 'say', 'to', 'them', 'bluntly', 'with', 'full', 'eyes', 'and', 'empty', 'glasses', 'and', 'in', 'not', 'altogether', 'unpleasant', 'it', 'up', 'sub', 'subs', 'for', 'by', 'how', 'much', 'the', 'more', 'pains', 'ye', 'take', 'to', 'please', 'the', 'world', 'by', 'so', 'much', 'the', 'more', 'shall', 'ye', 'for', 'ever', 'go', 'thankless', 'would', 'that', 'i', 'could', 'clear', 'out', 'hampton', 'court', 'and', 'the', 'tuileries', 'for', 'ye', 'but', 'gulp', 'down', 'your', 'tears', 'and', 'hie', 'aloft', 'to', 'the', 'royal', 'mast', 'with', 'your', 'hearts', 'for', 'your', 'friends', 'who', 'have', 'gone', 'before', 'are', 'clearing', 'out', 'the', 'seven', 'storied', 'heavens', 'and', 'making', 'refugees', 'of', 'long', 'pampered', 'gabriel', 'michael', 'and', 'raphael', 'against', 'your', 'coming', 'here', 'ye', 'strike', 'but', 'splintered', 'hearts', 'ye', 'shall', 'strike', 'unsplinterable', 'glasses', 'extracts', 'god', 'created', 'great', 'whales', 'genesis', 'maketh', 'a', 'path', 'to', 'shine', 'after', 'him', 'one', 'would', 'think', 'the', 'deep', 'to', 'be', 'hoary', 'job', 'the', 'lord', 'had', 'prepared', 'a', 'great', 'fish', 'to', 'swallow', 'up', 'jonah', 'jonah', 'go', 'the', 'ships', 'there', 'is', 'that', 'leviathan', 'whom', 'thou', 'hast', 'made', 'to', 'play', 'therein', 'psalms', 'that', 'day', 'the', 'lord', 'with', 'his', 'sore', 'and', 'great', 'and', 'strong', 'sword', 'shall', 'punish', 'leviathan', 'the', 'piercing', 'serpent', 'even', 'leviathan', 'that', 'crooked', 'serpent', 'and', 'he', 'shall', 'slay', 'the', 'dragon', 'that', 'is', 'in', 'the', 'sea', 'isaiah', 'what', 'thing', 'soever', 'besides', 'cometh', 'within', 'the', 'chaos', 'of', 'this', 'mouth', 'be', 'it', 'beast', 'boat', 'or', 'stone', 'down', 'it', 'goes', 'all', 'incontinently', 'that', 'foul', 'great', 'swallow', 'of', 'his', 'and', 'perisheth', 'in', 'the', 'bottomless', 'gulf', 'of', 'his', 'paunch', 'morals', 'indian', 'sea', 'breedeth', 'the', 'most', 'and', 'the', 'biggest', 'fishes', 'that', 'are', 'among', 'which', 'the', 'whales', 'and', 'whirlpooles', 'called', 'balaene', 'take', 'up', 'as', 'much', 'in', 'length', 'as', 'four', 'acres', 'or', 'arpens', 'of', 'land', 'pliny', 'had', 'we', 'proceeded', 'two', 'days', 'on', 'the', 'sea', 'when', 'about', 'sunrise', 'a', 'great', 'many', 'whales', 'and', 'other', 'monsters', 'of', 'the', 'sea', 'appeared', 'among', 'the', 'former', 'one', 'was', 'of', 'a', 'most', 'monstrous', 'size', 'this', 'came', 'towards', 'us', 'open', 'mouthed', 'raising', 'the', 'waves', 'on', 'all', 'sides', 'and', 'beating', 'the', 'sea', 'before', 'him', 'into', 'a', 'foam', 'lucian', 'the', 'true', 'history', 'visited', 'this', 'country', 'also', 'with', 'a', 'view', 'of', 'catching', 'horse', 'whales', 'which', 'had', 'bones', 'of', 'very', 'great', 'value', 'for', 'their', 'teeth', 'of', 'which', 'he', 'brought', 'some', 'to', 'the', 'king', 'the', 'best', 'whales', 'were', 'catched', 'in', 'his', 'own', 'country', 'of', 'which', 'some', 'were', 'forty', 'eight', 'some', 'fifty', 'yards', 'long', 'he', 'said', 'that', 'he', 'was', 'one', 'of', 'six', 'who', 'had', 'killed', 'sixty', 'in', 'two', 'days', 'other', 'or', 'verbal', 'narrative', 'taken', 'down', 'from', 'his', 'mouth', 'by', 'king', 'alfred', 'a', 'd', '890', 'whereas', 'all', 'the', 'other', 'things', 'whether', 'beast', 'or', 'vessel', 'that', 'enter', 'into', 'the', 'dreadful', 'gulf', 'of', 'this', 'mouth', 'are', 'immediately', 'lost', 'and', 'swallowed', 'up', 'the', 'sea', 'gudgeon', 'retires', 'into', 'it', 'in', 'great', 'security', 'and', 'there', 'sleeps', 'apology', 'for', 'raimond', 'sebond', 'us', 'fly', 'let', 'us', 'fly', 'old', 'nick', 'take', 'me', 'if', 'it', 'is', 'not', 'leviathan', 'described', 'by', 'the', 'noble', 'prophet', 'moses', 'in', 'the', 'life', 'of', 'patient', 'job', 'rabelais', 'liver', 'was', 'two', 'cartloads', 'annals', 'great', 'leviathan', 'that', 'maketh', 'the', 'seas', 'to', 'seethe', 'like', 'boiling', 'pan', 'lord', 'version', 'of', 'the', 'psalms', 'that', 'monstrous', 'bulk', 'of', 'the', 'whale', 'or', 'ork', 'we', 'have', 'received', 'nothing', 'certain', 'they', 'grow', 'exceeding', 'fat', 'insomuch', 'that', 'an', 'incredible', 'quantity', 'of', 'oil', 'will', 'be', 'extracted', 'out', 'of', 'one', 'whale', 'ibid', 'history', 'of', 'life', 'and', 'death', 'sovereignest', 'thing', 'on', 'earth', 'is', 'parmacetti', 'for', 'an', 'inward', 'bruise', 'king', 'henry', 'like', 'a', 'whale', 'hamlet', 'to', 'secure', 'no', 'skill', 'of', 'art', 'mote', 'him', 'availle', 'but', 'to', 'returne', 'againe', 'to', 'his', 'worker', 'that', 'with', 'lowly', 'dart', 'dinting', 'his', 'breast', 'had', 'bred', 'his', 'restless', 'paine', 'like', 'as', 'the', 'wounded', 'whale', 'to', 'shore', 'flies', 'the', 'maine', 'the', 'fairie', 'queen', 'as', 'whales', 'the', 'motion', 'of', 'whose', 'vast', 'bodies', 'can', 'in', 'a', 'peaceful', 'calm', 'trouble', 'the', 'ocean', 'till', 'it', 'boil', 'sir', 'william', 'davenant', 'preface', 'to', 'gondibert', 'spermacetti', 'is', 'men', 'might', 'justly', 'doubt', 'since', 'the', 'learned', 'hosmannus', 'in', 'his', 'work', 'of', 'thirty', 'years', 'saith', 'plainly', 'nescio', 'quid', 'sit', 'sir', 't', 'browne', 'of', 'sperma', 'ceti', 'and', 'the', 'sperma', 'ceti', 'whale', 'vide', 'his', 'v', 'e', 'talus', 'with', 'his', 'modern', 'flail', 'he', 'threatens', 'ruin', 'with', 'his', 'ponderous', 'tail', 'their', 'fixed', 'in', 'his', 'side', 'he', 'wears', 'and', 'on', 'his', 'back', 'a', 'grove', 'of', 'pikes', 'appears', 'battle', 'of', 'the', 'summer', 'islands', 'art', 'is', 'created', 'that', 'great', 'leviathan', 'called', 'a', 'commonwealth', 'or', 'in', 'latin', 'civitas', 'which', 'is', 'but', 'an', 'artificial', 'man', 'opening', 'sentence', 'of', 'leviathan', 'mansoul', 'swallowed', 'it', 'without', 'chewing', 'as', 'if', 'it', 'had', 'been', 'a', 'sprat', 'in', 'the', 'mouth', 'of', 'a', 'whale', 'progress', 'sea', 'beast', 'leviathan', 'which', 'god', 'of', 'all', 'his', 'works', 'created', 'hugest', 'that', 'swim', 'the', 'ocean', 'stream', 'paradise', 'lost', 'leviathan', 'hugest', 'of', 'living', 'creatures', 'in', 'the', 'deep', 'stretched', 'like', 'a', 'promontory', 'sleeps', 'or', 'swims', 'and', 'seems', 'a', 'moving', 'land', 'and', 'at', 'his', 'gills', 'draws', 'in', 'and', 'at', 'his', 'breath', 'spouts', 'out', 'a', 'sea', 'ibid', 'mighty', 'whales', 'which', 'swim', 'in', 'a', 'sea', 'of', 'water', 'and', 'have', 'a', 'sea', 'of', 'oil', 'swimming', 'in', 'them', 'profane', 'and', 'holy', 'state', 'close', 'behind', 'some', 'promontory', 'lie', 'the', 'huge', 'leviathan', 'to', 'attend', 'their', 'prey', 'and', 'give', 'no', 'chance', 'but', 'swallow', 'in', 'the', 'fry', 'which', 'through', 'their', 'gaping', 'jaws', 'mistake', 'the', 'way', 'annus', 'mirabilis', 'the', 'whale', 'is', 'floating', 'at', 'the', 'stern', 'of', 'the', 'ship', 'they', 'cut', 'off', 'his', 'head', 'and', 'tow', 'it', 'with', 'a', 'boat', 'as', 'near', 'the', 'shore', 'as', 'it', 'will', 'come', 'but', 'it', 'will', 'be', 'aground', 'in', 'twelve', 'or', 'thirteen', 'feet', 'water', 'thomas', 'ten', 'voyages', 'to', 'spitzbergen', 'in', 'purchas', 'their', 'way', 'they', 'saw', 'many', 'whales', 'sporting', 'in', 'the', 'ocean', 'and', 'in', 'wantonness', 'fuzzing', 'up', 'the', 'water', 'through', 'their', 'pipes', 'and', 'vents', 'which', 'nature', 'has', 'placed', 'on', 'their', 'shoulders', 'sir', 't', 'voyages', 'into', 'asia', 'and', 'africa', 'harris', 'coll', 'they', 'saw', 'such', 'huge', 'troops', 'of', 'whales', 'that', 'they', 'were', 'forced', 'to', 'proceed', 'with', 'a', 'great', 'deal', 'of', 'caution', 'for', 'fear', 'they', 'should', 'run', 'their', 'ship', 'upon', 'them', 'sixth', 'circumnavigation', 'set', 'sail', 'from', 'the', 'elbe', 'wind', 'n', 'e', 'in', 'the', 'ship', 'called', 'the', 'jonas', 'in', 'the', 'whale', 'some', 'say', 'the', 'whale', 'open', 'his', 'mouth', 'but', 'that', 'is', 'a', 'fable', 'they', 'frequently', 'climb', 'up', 'the', 'masts', 'to', 'see', 'whether', 'they', 'can', 'see', 'a', 'whale', 'for', 'the', 'first', 'discoverer', 'has', 'a', 'ducat', 'for', 'his', 'pains', 'i', 'was', 'told', 'of', 'a', 'whale', 'taken', 'near', 'shetland', 'that', 'had', 'above', 'a', 'barrel', 'of', 'herrings', 'in', 'his', 'belly', 'one', 'of', 'our', 'harpooneers', 'told', 'me', 'that', 'he', 'caught', 'once', 'a', 'whale', 'in', 'spitzbergen', 'that', 'was', 'white', 'all', 'over', 'a', 'voyage', 'to', 'greenland', 'a', 'd', '1671', 'harris', 'coll', 'whales', 'have', 'come', 'in', 'upon', 'this', 'coast', 'fife', 'anno', '1652', 'one', 'eighty', 'feet', 'in', 'length', 'of', 'the', 'whale', 'bone', 'kind', 'came', 'in', 'which', 'as', 'i', 'was', 'informed', 'besides', 'a', 'vast', 'quantity', 'of', 'oil', 'did', 'afford', '500', 'weight', 'of', 'baleen', 'the', 'jaws', 'of', 'it', 'stand', 'for', 'a', 'gate', 'in', 'the', 'garden', 'of', 'pitferren', 'fife', 'and', 'kinross', 'have', 'agreed', 'to', 'try', 'whether', 'i', 'can', 'master', 'and', 'kill', 'this', 'sperma', 'ceti', 'whale', 'for', 'i', 'could', 'never', 'hear', 'of', 'any', 'of', 'that', 'sort', 'that', 'was', 'killed', 'by', 'any', 'man', 'such', 'is', 'his', 'fierceness', 'and', 'swiftness', 'richard', 'letter', 'from', 'the', 'bermudas', 'phil', 'trans', 'a', 'd', '1668', 'in', 'the', 'sea', 'voice', 'obey', 'n', 'e', 'primer', 'saw', 'also', 'abundance', 'of', 'large', 'whales', 'there', 'being', 'more', 'in', 'those', 'southern', 'seas', 'as', 'i', 'may', 'say', 'by', 'a', 'hundred', 'to', 'one', 'than', 'we', 'have', 'to', 'the', 'northward', 'of', 'us', 'captain', 'voyage', 'round', 'the', 'globe', 'a', 'd', '1729', 'and', 'the', 'breath', 'of', 'the', 'whale', 'is', 'frequently', 'attended', 'with', 'such', 'an', 'insupportable', 'smell', 'as', 'to', 'bring', 'on', 'a', 'disorder', 'of', 'the', 'brain', 'south', 'america', 'fifty', 'chosen', 'sylphs', 'of', 'special', 'note', 'we', 'trust', 'the', 'important', 'charge', 'the', 'petticoat', 'oft', 'have', 'we', 'known', 'that', 'seven', 'fold', 'fence', 'to', 'fail', 'stuffed', 'with', 'hoops', 'and', 'armed', 'with', 'ribs', 'of', 'whale', 'rape', 'of', 'the', 'lock', 'we', 'compare', 'land', 'animals', 'in', 'respect', 'to', 'magnitude', 'with', 'those', 'that', 'take', 'up', 'their', 'abode', 'in', 'the', 'deep', 'we', 'shall', 'find', 'they', 'will', 'appear', 'contemptible', 'in', 'the', 'comparison', 'the', 'whale', 'is', 'doubtless', 'the', 'largest', 'animal', 'in', 'creation', 'goldsmith', 'nat', 'hist', 'you', 'should', 'write', 'a', 'fable', 'for', 'little', 'fishes', 'you', 'would', 'make', 'them', 'speak', 'like', 'great', 'whales', 'goldsmith', 'to', 'johnson', 'the', 'afternoon', 'we', 'saw', 'what', 'was', 'supposed', 'to', 'be', 'a', 'rock', 'but', 'it', 'was', 'found', 'to', 'be', 'a', 'dead', 'whale', 'which', 'some', 'asiatics', 'had', 'killed', 'and', 'were', 'then', 'towing', 'ashore', 'they', 'seemed', 'to', 'endeavor', 'to', 'conceal', 'themselves', 'behind', 'the', 'whale', 'in', 'order', 'to', 'avoid', 'being', 'seen', 'by', 'us', 'voyages', 'larger', 'whales', 'they', 'seldom', 'venture', 'to', 'attack', 'they', 'stand', 'in', 'so', 'great', 'dread', 'of', 'some', 'of', 'them', 'that', 'when', 'out', 'at', 'sea', 'they', 'are', 'afraid', 'to', 'mention', 'even', 'their', 'names', 'and', 'carry', 'dung', 'lime', 'stone', 'juniper', 'wood', 'and', 'some', 'other', 'articles', 'of', 'the', 'same', 'nature', 'in', 'their', 'boats', 'in', 'order', 'to', 'terrify', 'and', 'prevent', 'their', 'too', 'near', 'approach', 'uno', 'von', 'letters', 'on', 'and', 'voyage', 'to', 'iceland', 'in', '1772', 'spermacetti', 'whale', 'found', 'by', 'the', 'nantuckois', 'is', 'an', 'active', 'fierce', 'animal', 'and', 'requires', 'vast', 'address', 'and', 'boldness', 'in', 'the', 'fishermen', 'thomas', 'whale', 'memorial', 'to', 'the', 'french', 'minister', 'in', '1778', 'pray', 'sir', 'what', 'in', 'the', 'world', 'is', 'equal', 'to', 'it', 'edmund', 'reference', 'in', 'parliament', 'to', 'the', 'nantucket', 'whale', 'fishery', 'great', 'whale', 'stranded', 'on', 'the', 'shores', 'of', 'europe', 'edmund', 'burke', 'somewhere', 'tenth', 'branch', 'of', 'the', 'ordinary', 'revenue', 'said', 'to', 'be', 'grounded', 'on', 'the', 'consideration', 'of', 'his', 'guarding', 'and', 'protecting', 'the', 'seas', 'from', 'pirates', 'and', 'robbers', 'is', 'the', 'right', 'to', 'royal', 'fish', 'which', 'are', 'whale', 'and', 'sturgeon', 'and', 'these', 'when', 'either', 'thrown', 'ashore', 'or', 'caught', 'near', 'the', 'coast', 'are', 'the', 'property', 'of', 'the', 'king', 'blackstone', 'to', 'the', 'sport', 'of', 'death', 'the', 'crews', 'repair', 'rodmond', 'unerring', 'his', 'head', 'suspends', 'the', 'barbed', 'steel', 'and', 'every', 'turn', 'attends', 'shipwreck', 'shone', 'the', 'roofs', 'the', 'domes', 'the', 'spires', 'and', 'rockets', 'blew', 'self', 'driven', 'to', 'hang', 'their', 'momentary', 'fire', 'around', 'the', 'vault', 'of', 'heaven', 'fire', 'with', 'water', 'to', 'compare', 'the', 'ocean', 'serves', 'on', 'high', 'up', 'spouted', 'by', 'a', 'whale', 'in', 'air', 'to', 'express', 'unwieldy', 'joy', 'cowper', 'on', 'the', 'visit', 'to', 'london', 'or', 'fifteen', 'gallons', 'of', 'blood', 'are', 'thrown', 'out', 'of', 'the', 'heart', 'at', 'a', 'stroke', 'with', 'immense', 'velocity', 'john', 'account', 'of', 'the', 'dissection', 'of', 'a', 'whale', 'a', 'small', 'sized', 'one', 'aorta', 'of', 'a', 'whale', 'is', 'larger', 'in', 'the', 'bore', 'than', 'the', 'main', 'pipe', 'of', 'the', 'water', 'works', 'at', 'london', 'bridge', 'and', 'the', 'water', 'roaring', 'in', 'its', 'passage', 'through', 'that', 'pipe', 'is', 'inferior', 'in', 'impetus', 'and', 'velocity', 'to', 'the', 'blood', 'gushing', 'from', 'the', 'heart', 'theology', 'whale', 'is', 'a', 'mammiferous', 'animal', 'without', 'hind', 'feet', 'baron', 'cuvier', '40', 'degrees', 'south', 'we', 'saw', 'spermacetti', 'whales', 'but', 'did', 'not', 'take', 'any', 'till', 'the', 'first', 'of', 'may', 'the', 'sea', 'being', 'then', 'covered', 'with', 'them', 'voyage', 'for', 'the', 'purpose', 'of', 'extending', 'the', 'spermaceti', 'whale', 'fishery', 'the', 'free', 'element', 'beneath', 'me', 'swam', 'floundered', 'and', 'dived', 'in', 'play', 'in', 'chace', 'in', 'battle', 'fishes', 'of', 'every', 'colour', 'form', 'and', 'kind', 'which', 'language', 'cannot', 'paint', 'and', 'mariner', 'had', 'never', 'seen', 'from', 'dread', 'leviathan', 'to', 'insect', 'millions', 'peopling', 'every', 'wave', 'in', 'shoals', 'immense', 'like', 'floating', 'islands', 'led', 'by', 'mysterious', 'instincts', 'through', 'that', 'waste', 'and', 'trackless', 'region', 'though', 'on', 'every', 'side', 'assaulted', 'by', 'voracious', 'enemies', 'whales', 'sharks', 'and', 'monsters', 'in', 'front', 'or', 'jaw', 'with', 'swords', 'saws', 'spiral', 'horns', 'or', 'hooked', 'fangs', 'world', 'before', 'the', 'flood', 'paean', 'io', 'sing', 'to', 'the', 'finny', 'king', 'not', 'a', 'mightier', 'whale', 'than', 'this', 'in', 'the', 'vast', 'atlantic', 'is', 'not', 'a', 'fatter', 'fish', 'than', 'he', 'flounders', 'round', 'the', 'polar', 'sea', 'charles', 'triumph', 'of', 'the', 'whale', 'the', 'year', '1690', 'some', 'persons', 'were', 'on', 'a', 'high', 'hill', 'observing', 'the', 'whales', 'spouting', 'and', 'sporting', 'with', 'each', 'other', 'when', 'one', 'observed', 'to', 'the', 'a', 'green', 'pasture', 'where', 'our', 'grand', 'children', 'will', 'go', 'for', 'bread', 'obed', 'history', 'of', 'nantucket', 'built', 'a', 'cottage', 'for', 'susan', 'and', 'myself', 'and', 'made', 'a', 'gateway', 'in', 'the', 'form', 'of', 'a', 'gothic', 'arch', 'by', 'setting', 'up', 'a', 'jaw', 'bones', 'twice', 'told', 'tales', 'came', 'to', 'bespeak', 'a', 'monument', 'for', 'her', 'first', 'love', 'who', 'had', 'been', 'killed', 'by', 'a', 'whale', 'in', 'the', 'pacific', 'ocean', 'no', 'less', 'than', 'forty', 'years', 'ago', 'ibid', 'sir', 'a', 'right', 'whale', 'answered', 'tom', 'saw', 'his', 'sprout', 'he', 'threw', 'up', 'a', 'pair', 'of', 'as', 'pretty', 'rainbows', 'as', 'a', 'christian', 'would', 'wish', 'to', 'look', 'at', 'a', 'raal', 'oil', 'butt', 'that', 'fellow', 'pilot', 'papers', 'were', 'brought', 'in', 'and', 'we', 'saw', 'in', 'the', 'berlin', 'gazette', 'that', 'whales', 'had', 'been', 'introduced', 'on', 'the', 'stage', 'there', 'conversations', 'with', 'goethe', 'god', 'mr', 'chace', 'what', 'is', 'the', 'matter', 'i', 'answered', 'have', 'been', 'stove', 'by', 'a', 'whale', 'narrative', 'of', 'the', 'shipwreck', 'of', 'the', 'whale', 'ship', 'essex', 'of', 'nantucket', 'which', 'was', 'attacked', 'and', 'finally', 'destroyed', 'by', 'a', 'large', 'sperm', 'whale', 'in', 'the', 'pacific', 'ocean', 'by', 'owen', 'chace', 'of', 'nantucket', 'first', 'mate', 'of', 'said', 'vessel', 'new', 'york', '1821', 'mariner', 'sat', 'in', 'the', 'shrouds', 'one', 'night', 'the', 'wind', 'was', 'piping', 'free', 'now', 'bright', 'now', 'dimmed', 'was', 'the', 'moonlight', 'pale', 'and', 'the', 'phospher', 'gleamed', 'in', 'the', 'wake', 'of', 'the', 'whale', 'as', 'it', 'floundered', 'in', 'the', 'sea', 'elizabeth', 'oakes', 'smith', 'quantity', 'of', 'line', 'withdrawn', 'from', 'the', 'boats', 'engaged', 'in', 'the', 'capture', 'of', 'this', 'one', 'whale', 'amounted', 'altogether', 'to', '10', '440', 'yards', 'or', 'nearly', 'six', 'english', 'miles', 'the', 'whale', 'shakes', 'its', 'tremendous', 'tail', 'in', 'the', 'air', 'which', 'cracking', 'like', 'a', 'whip', 'resounds', 'to', 'the', 'distance', 'of', 'three', 'or', 'four', 'miles', 'scoresby', 'with', 'the', 'agonies', 'he', 'endures', 'from', 'these', 'fresh', 'attacks', 'the', 'infuriated', 'sperm', 'whale', 'rolls', 'over', 'and', 'over', 'he', 'rears', 'his', 'enormous', 'head', 'and', 'with', 'wide', 'expanded', 'jaws', 'snaps', 'at', 'everything', 'around', 'him', 'he', 'rushes', 'at', 'the', 'boats', 'with', 'his', 'head', 'they', 'are', 'propelled', 'before', 'him', 'with', 'vast', 'swiftness', 'and', 'sometimes', 'utterly', 'destroyed', 'it', 'is', 'a', 'matter', 'of', 'great', 'astonishment', 'that', 'the', 'consideration', 'of', 'the', 'habits', 'of', 'so', 'interesting', 'and', 'in', 'a', 'commercial', 'point', 'of', 'view', 'so', 'important', 'an', 'animal', 'as', 'the', 'sperm', 'whale', 'should', 'have', 'been', 'so', 'entirely', 'neglected', 'or', 'should', 'have', 'excited', 'so', 'little', 'curiosity', 'among', 'the', 'numerous', 'and', 'many', 'of', 'them', 'competent', 'observers', 'that', 'of', 'late', 'years', 'must', 'have', 'possessed', 'the', 'most', 'abundant', 'and', 'the', 'most', 'convenient', 'opportunities', 'of', 'witnessing', 'their', 'habitudes', 'thomas', 'history', 'of', 'the', 'sperm', 'whale', '1839', 'sperm', 'whale', 'not', 'only', 'better', 'armed', 'than', 'the', 'true', 'greenland', 'or', 'right', 'whale', 'possessing', 'a', 'formidable', 'weapon', 'at', 'either', 'extremity', 'of', 'its', 'body', 'but', 'also', 'more', 'frequently', 'displays', 'a', 'disposition', 'to', 'employ', 'these', 'weapons', 'offensively', 'and', 'in', 'manner', 'at', 'once', 'so', 'artful', 'bold', 'and', 'mischievous', 'as', 'to', 'lead', 'to', 'its', 'being', 'regarded', 'as', 'the', 'most', 'dangerous', 'to', 'attack', 'of', 'all', 'the', 'known', 'species', 'of', 'the', 'whale', 'tribe', 'frederick', 'debell', 'whaling', 'voyage', 'round', 'the', 'globe', '1840', 'october', '13', 'she', 'blows', 'was', 'sung', 'out', 'from', 'the', 'mast', 'head', 'away', 'demanded', 'the', 'captain', 'points', 'off', 'the', 'lee', 'bow', 'sir', 'up', 'your', 'wheel', 'steady', 'sir', 'head', 'ahoy', 'do', 'you', 'see', 'that', 'whale', 'now', 'ay', 'sir', 'a', 'shoal', 'of', 'sperm', 'whales', 'there', 'she', 'blows', 'there', 'she', 'breaches', 'out', 'sing', 'out', 'every', 'time', 'ay', 'sir', 'there', 'she', 'blows', 'thar', 'she', 'o', 'os', 'far', 'off', 'miles', 'and', 'a', 'half', 'and', 'lightning', 'so', 'near', 'call', 'all', 'hands', 'j', 'ross', 'etchings', 'of', 'a', 'whaling', 'cruize', '1846', 'whale', 'ship', 'globe', 'on', 'board', 'of', 'which', 'vessel', 'occurred', 'the', 'horrid', 'transactions', 'we', 'are', 'about', 'to', 'relate', 'belonged', 'to', 'the', 'island', 'of', 'nantucket', 'narrative', 'of', 'the', 'globe', 'mutiny', 'by', 'lay', 'and', 'hussey', 'survivors', 'a', 'd', '1828', 'being', 'once', 'pursued', 'by', 'a', 'whale', 'which', 'he', 'had', 'wounded', 'he', 'parried', 'the', 'assault', 'for', 'some', 'time', 'with', 'a', 'lance', 'but', 'the', 'furious', 'monster', 'at', 'length', 'rushed', 'on', 'the', 'boat', 'himself', 'and', 'comrades', 'only', 'being', 'preserved', 'by', 'leaping', 'into', 'the', 'water', 'when', 'they', 'saw', 'the', 'onset', 'was', 'inevitable', 'missionary', 'journal', 'of', 'tyerman', 'and', 'bennett', 'itself', 'said', 'mr', 'webster', 'a', 'very', 'striking', 'and', 'peculiar', 'portion', 'of', 'the', 'national', 'interest', 'there', 'is', 'a', 'population', 'of', 'eight', 'or', 'nine', 'thousand', 'persons', 'living', 'here', 'in', 'the', 'sea', 'adding', 'largely', 'every', 'year', 'to', 'the', 'national', 'wealth', 'by', 'the', 'boldest', 'and', 'most', 'persevering', 'industry', 'report', 'of', 'daniel', 'speech', 'in', 'the', 'u', 's', 'senate', 'on', 'the', 'application', 'for', 'the', 'erection', 'of', 'a', 'breakwater', 'at', 'nantucket', '1828', 'whale', 'fell', 'directly', 'over', 'him', 'and', 'probably', 'killed', 'him', 'in', 'a', 'moment', 'the', 'whale', 'and', 'his', 'captors', 'or', 'the', 'adventures', 'and', 'the', 'biography', 'gathered', 'on', 'the', 'homeward', 'cruise', 'of', 'the', 'commodore', 'preble', 'by', 'rev', 'henry', 't', 'cheever', 'you', 'make', 'the', 'least', 'damn', 'bit', 'of', 'noise', 'replied', 'samuel', 'will', 'send', 'you', 'to', 'hell', 'life', 'of', 'samuel', 'comstock', 'the', 'mutineer', 'by', 'his', 'brother', 'william', 'comstock', 'another', 'version', 'of', 'the', 'whale', 'ship', 'globe', 'narrative', 'voyages', 'of', 'the', 'dutch', 'and', 'english', 'to', 'the', 'northern', 'ocean', 'in', 'order', 'if', 'possible', 'to', 'discover', 'a', 'passage', 'through', 'it', 'to', 'india', 'though', 'they', 'failed', 'of', 'their', 'main', 'object', 'laid', 'open', 'the', 'haunts', 'of', 'the', 'whale', 'commercial', 'dictionary', 'things', 'are', 'reciprocal', 'the', 'ball', 'rebounds', 'only', 'to', 'bound', 'forward', 'again', 'for', 'now', 'in', 'laying', 'open', 'the', 'haunts', 'of', 'the', 'whale', 'the', 'whalemen', 'seem', 'to', 'have', 'indirectly', 'hit', 'upon', 'new', 'clews', 'to', 'that', 'same', 'mystic', 'north', 'west', 'passage', 'from', 'something', 'unpublished', 'is', 'impossible', 'to', 'meet', 'a', 'whale', 'ship', 'on', 'the', 'ocean', 'without', 'being', 'struck', 'by', 'her', 'near', 'appearance', 'the', 'vessel', 'under', 'short', 'sail', 'with', 'look', 'outs', 'at', 'the', 'mast', 'heads', 'eagerly', 'scanning', 'the', 'wide', 'expanse', 'around', 'them', 'has', 'a', 'totally', 'different', 'air', 'from', 'those', 'engaged', 'in', 'regular', 'voyage', 'currents', 'and', 'whaling', 'u', 's', 'ex', 'ex', 'in', 'the', 'vicinity', 'of', 'london', 'and', 'elsewhere', 'may', 'recollect', 'having', 'seen', 'large', 'curved', 'bones', 'set', 'upright', 'in', 'the', 'earth', 'either', 'to', 'form', 'arches', 'over', 'gateways', 'or', 'entrances', 'to', 'alcoves', 'and', 'they', 'may', 'perhaps', 'have', 'been', 'told', 'that', 'these', 'were', 'the', 'ribs', 'of', 'whales', 'tales', 'of', 'a', 'whale', 'voyager', 'to', 'the', 'arctic', 'ocean', 'was', 'not', 'till', 'the', 'boats', 'returned', 'from', 'the', 'pursuit', 'of', 'these', 'whales', 'that', 'the', 'whites', 'saw', 'their', 'ship', 'in', 'bloody', 'possession', 'of', 'the', 'savages', 'enrolled', 'among', 'the', 'crew', 'newspaper', 'account', 'of', 'the', 'taking', 'and', 'retaking', 'of', 'the', 'whale', 'ship', 'hobomack', 'is', 'generally', 'well', 'known', 'that', 'out', 'of', 'the', 'crews', 'of', 'whaling', 'vessels', 'american', 'few', 'ever', 'return', 'in', 'the', 'ships', 'on', 'board', 'of', 'which', 'they', 'departed', 'cruise', 'in', 'a', 'whale', 'boat', 'a', 'mighty', 'mass', 'emerged', 'from', 'the', 'water', 'and', 'shot', 'up', 'perpendicularly', 'into', 'the', 'air', 'it', 'was', 'the', 'whale', 'miriam', 'coffin', 'or', 'the', 'whale', 'fisherman', 'whale', 'is', 'harpooned', 'to', 'be', 'sure', 'but', 'bethink', 'you', 'how', 'you', 'would', 'manage', 'a', 'powerful', 'unbroken', 'colt', 'with', 'the', 'mere', 'appliance', 'of', 'a', 'rope', 'tied', 'to', 'the', 'root', 'of', 'his', 'tail', 'a', 'chapter', 'on', 'whaling', 'in', 'ribs', 'and', 'trucks', 'one', 'occasion', 'i', 'saw', 'two', 'of', 'these', 'monsters', 'whales', 'probably', 'male', 'and', 'female', 'slowly', 'swimming', 'one', 'after', 'the', 'other', 'within', 'less', 'than', 'a', 'throw', 'of', 'the', 'terra', 'del', 'fuego', 'which', 'the', 'beech', 'tree', 'extended', 'its', 'branches', 'voyage', 'of', 'a', 'naturalist', 'all', 'exclaimed', 'the', 'mate', 'as', 'upon', 'turning', 'his', 'head', 'he', 'saw', 'the', 'distended', 'jaws', 'of', 'a', 'large', 'sperm', 'whale', 'close', 'to', 'the', 'head', 'of', 'the', 'boat', 'threatening', 'it', 'with', 'instant', 'destruction', 'all', 'for', 'your', 'lives', 'wharton', 'the', 'whale', 'killer', 'be', 'cheery', 'my', 'lads', 'let', 'your', 'hearts', 'never', 'fail', 'while', 'the', 'bold', 'harpooneer', 'is', 'striking', 'the', 'whale', 'nantucket', 'song', 'the', 'rare', 'old', 'whale', 'mid', 'storm', 'and', 'gale', 'in', 'his', 'ocean', 'home', 'will', 'be', 'a', 'giant', 'in', 'might', 'where', 'might', 'is', 'right', 'and', 'king', 'of', 'the', 'boundless', 'sea', 'whale', 'song', 'chapter', '1', 'loomings', 'call', 'me', 'ishmael', 'some', 'years', 'mind', 'how', 'long', 'little', 'or', 'no', 'money', 'in', 'my', 'purse', 'and', 'nothing', 'particular', 'to', 'interest', 'me', 'on', 'shore', 'i', 'thought', 'i', 'would', 'sail', 'about', 'a', 'little', 'and', 'see', 'the', 'watery', 'part', 'of', 'the', 'world', 'it', 'is', 'a', 'way', 'i', 'have', 'of', 'driving', 'off', 'the', 'spleen', 'and', 'regulating', 'the', 'circulation', 'whenever', 'i', 'find', 'myself', 'growing', 'grim', 'about', 'the', 'mouth', 'whenever', 'it', 'is', 'a', 'damp', 'drizzly', 'november', 'in', 'my', 'soul', 'whenever', 'i', 'find', 'myself', 'involuntarily', 'pausing', 'before', 'coffin', 'warehouses', 'and', 'bringing', 'up', 'the', 'rear', 'of', 'every', 'funeral', 'i', 'meet', 'and', 'especially', 'whenever', 'my', 'hypos', 'get', 'such', 'an', 'upper', 'hand', 'of', 'me', 'that', 'it', 'requires', 'a', 'strong', 'moral', 'principle', 'to', 'prevent', 'me', 'from', 'deliberately', 'stepping', 'into', 'the', 'street', 'and', 'methodically', 'knocking', 'hats', 'i', 'account', 'it', 'high', 'time', 'to', 'get', 'to', 'sea', 'as', 'soon', 'as', 'i', 'can', 'this', 'is', 'my', 'substitute', 'for', 'pistol', 'and', 'ball', 'with', 'a', 'philosophical', 'flourish', 'cato', 'throws', 'himself', 'upon', 'his', 'sword', 'i', 'quietly', 'take', 'to', 'the', 'ship', 'there', 'is', 'nothing', 'surprising', 'in', 'this', 'if', 'they', 'but', 'knew', 'it', 'almost', 'all', 'men', 'in', 'their', 'degree', 'some', 'time', 'or', 'other', 'cherish', 'very', 'nearly', 'the', 'same', 'feelings', 'towards', 'the', 'ocean', 'with', 'me', 'there', 'now', 'is', 'your', 'insular', 'city', 'of', 'the', 'manhattoes', 'belted', 'round', 'by', 'wharves', 'as', 'indian', 'isles', 'by', 'coral', 'surrounds', 'it', 'with', 'her', 'surf', 'right', 'and', 'left', 'the', 'streets', 'take', 'you', 'waterward', 'its', 'extreme', 'downtown', 'is', 'the', 'battery', 'where', 'that', 'noble', 'mole', 'is', 'washed', 'by', 'waves', 'and', 'cooled', 'by', 'breezes', 'which', 'a', 'few', 'hours', 'previous', 'were', 'out', 'of', 'sight', 'of', 'land', 'look', 'at', 'the', 'crowds', 'of', 'water', 'gazers', 'there', 'circumambulate', 'the', 'city', 'of', 'a', 'dreamy', 'sabbath', 'afternoon', 'go', 'from', 'corlears', 'hook', 'to', 'coenties', 'slip', 'and', 'from', 'thence', 'by', 'whitehall', 'northward', 'what', 'do', 'you', 'see', 'like', 'silent', 'sentinels', 'all', 'around', 'the', 'town', 'stand', 'thousands', 'upon', 'thousands', 'of', 'mortal', 'men', 'fixed', 'in', 'ocean', 'reveries', 'some', 'leaning', 'against', 'the', 'spiles', 'some', 'seated', 'upon', 'the', 'pier', 'heads', 'some', 'looking', 'over', 'the', 'bulwarks', 'of', 'ships', 'from', 'china', 'some', 'high', 'aloft', 'in', 'the', 'rigging', 'as', 'if', 'striving', 'to', 'get', 'a', 'still', 'better', 'seaward', 'peep', 'but', 'these', 'are', 'all', 'landsmen', 'of', 'week', 'days', 'pent', 'up', 'in', 'lath', 'and', 'to', 'counters', 'nailed', 'to', 'benches', 'clinched', 'to', 'desks', 'how', 'then', 'is', 'this', 'are', 'the', 'green', 'fields', 'gone', 'what', 'do', 'they', 'here', 'but', 'look', 'here', 'come', 'more', 'crowds', 'pacing', 'straight', 'for', 'the', 'water', 'and', 'seemingly', 'bound', 'for', 'a', 'dive', 'strange', 'nothing', 'will', 'content', 'them', 'but', 'the', 'extremest', 'limit', 'of', 'the', 'land', 'loitering', 'under', 'the', 'shady', 'lee', 'of', 'yonder', 'warehouses', 'will', 'not', 'suffice', 'no', 'they', 'must', 'get', 'just', 'as', 'nigh', 'the', 'water', 'as', 'they', 'possibly', 'can', 'without', 'falling', 'in', 'and', 'there', 'they', 'of', 'inlanders', 'all', 'they', 'come', 'from', 'lanes', 'and', 'alleys', 'streets', 'and', 'east', 'south', 'and', 'west', 'yet', 'here', 'they', 'all', 'unite', 'tell', 'me', 'does', 'the', 'magnetic', 'virtue', 'of', 'the', 'needles', 'of', 'the', 'compasses', 'of', 'all', 'those', 'ships', 'attract', 'them', 'thither', 'once', 'more', 'say', 'you', 'are', 'in', 'the', 'country', 'in', 'some', 'high', 'land', 'of', 'lakes', 'take', 'almost', 'any', 'path', 'you', 'please', 'and', 'ten', 'to', 'one', 'it', 'carries', 'you', 'down', 'in', 'a', 'dale', 'and', 'leaves', 'you', 'there', 'by', 'a', 'pool', 'in', 'the', 'stream', 'there', 'is', 'magic', 'in', 'it', 'let', 'the', 'most', 'absent', 'minded', 'of', 'men', 'be', 'plunged', 'in', 'his', 'deepest', 'that', 'man', 'on', 'his', 'legs', 'set', 'his', 'feet', 'a', 'going', 'and', 'he', 'will', 'infallibly', 'lead', 'you', 'to', 'water', 'if', 'water', 'there', 'be', 'in', 'all', 'that', 'region', 'should', 'you', 'ever', 'be', 'athirst', 'in', 'the', 'great', 'american', 'desert', 'try', 'this', 'experiment', 'if', 'your', 'caravan', 'happen', 'to', 'be', 'supplied', 'with', 'a', 'metaphysical', 'professor', 'yes', 'as', 'every', 'one', 'knows', 'meditation', 'and', 'water', 'are', 'wedded', 'for', 'ever', 'but', 'here', 'is', 'an', 'artist', 'he', 'desires', 'to', 'paint', 'you', 'the', 'dreamiest', 'shadiest', 'quietest', 'most', 'enchanting', 'bit', 'of', 'romantic', 'landscape', 'in', 'all', 'the', 'valley', 'of', 'the', 'saco', 'what', 'is', 'the', 'chief', 'element', 'he', 'employs', 'there', 'stand', 'his', 'trees', 'each', 'with', 'a', 'hollow', 'trunk', 'as', 'if', 'a', 'hermit', 'and', 'a', 'crucifix', 'were', 'within', 'and', 'here', 'sleeps', 'his', 'meadow', 'and', 'there', 'sleep', 'his', 'cattle', 'and', 'up', 'from', 'yonder', 'cottage', 'goes', 'a', 'sleepy', 'smoke', 'deep', 'into', 'distant', 'woodlands', 'winds', 'a', 'mazy', 'way', 'reaching', 'to', 'overlapping', 'spurs', 'of', 'mountains', 'bathed', 'in', 'their', 'hill', 'side', 'blue', 'but', 'though', 'the', 'picture', 'lies', 'thus', 'tranced', 'and', 'though', 'this', 'pine', 'tree', 'shakes', 'down', 'its', 'sighs', 'like', 'leaves', 'upon', 'this', 'head', 'yet', 'all', 'were', 'vain', 'unless', 'the', 'eye', 'were', 'fixed', 'upon', 'the', 'magic', 'stream', 'before', 'him', 'go', 'visit', 'the', 'prairies', 'in', 'june', 'when', 'for', 'scores', 'on', 'scores', 'of', 'miles', 'you', 'wade', 'knee', 'deep', 'among', 'tiger', 'is', 'the', 'one', 'charm', 'wanting', 'is', 'not', 'a', 'drop', 'of', 'water', 'there', 'were', 'niagara', 'but', 'a', 'cataract', 'of', 'sand', 'would', 'you', 'travel', 'your', 'thousand', 'miles', 'to', 'see', 'it', 'why', 'did', 'the', 'poor', 'poet', 'of', 'tennessee', 'upon', 'suddenly', 'receiving', 'two', 'handfuls', 'of', 'silver', 'deliberate', 'whether', 'to', 'buy', 'him']\n"
          ]
        }
      ],
      "source": [
        "print(tokens)\n"
      ]
    },
    {
      "cell_type": "markdown",
      "metadata": {
        "id": "4qrDoft1Pdw-"
      },
      "source": [
        "Creates a set of unique tokens to find the vocabulary size."
      ]
    },
    {
      "cell_type": "code",
      "metadata": {
        "id": "I4CodUOEPdw-",
        "colab": {
          "base_uri": "https://localhost:8080/"
        },
        "outputId": "a7d2e350-4af8-42bb-fac8-3ce501d91908"
      },
      "execution_count": null,
      "outputs": [
        {
          "output_type": "stream",
          "name": "stdout",
          "text": [
            "The number of tokens is 5000\n"
          ]
        }
      ],
      "source": [
        "print(\"The number of tokens is\", len(tokens))\n"
      ]
    },
    {
      "cell_type": "markdown",
      "metadata": {
        "id": "cexsHMp4Pdw_"
      },
      "source": [
        "Prints the size of the vocabulary (number of unique words)."
      ]
    },
    {
      "cell_type": "code",
      "metadata": {
        "id": "2VNkAwE9Pdw_"
      },
      "execution_count": null,
      "outputs": [],
      "source": [
        "vocabulary = set(tokens)\n"
      ]
    },
    {
      "cell_type": "code",
      "metadata": {
        "id": "v5hzbyGOPdw_",
        "colab": {
          "base_uri": "https://localhost:8080/"
        },
        "outputId": "df29aee6-c756-4fa0-caa9-7d804373be67"
      },
      "execution_count": null,
      "outputs": [
        {
          "output_type": "stream",
          "name": "stdout",
          "text": [
            "The number of unique words is 1852\n"
          ]
        }
      ],
      "source": [
        "print(\"The number of unique words is\", len(vocabulary))\n"
      ]
    },
    {
      "cell_type": "markdown",
      "metadata": {
        "id": "xwGxDfc_PdxA"
      },
      "source": [
        "Initializes an empty dictionary to store word frequencies."
      ]
    },
    {
      "cell_type": "code",
      "metadata": {
        "id": "GVcdh8YHPdxA"
      },
      "execution_count": null,
      "outputs": [],
      "source": [
        "countTable = {}\n"
      ]
    },
    {
      "cell_type": "markdown",
      "metadata": {
        "id": "tO82aJpgPdxA"
      },
      "source": [
        "Iterates through the vocabulary and counts occurrences of each word in the tokens."
      ]
    },
    {
      "cell_type": "code",
      "metadata": {
        "id": "KVtocf_OPdxB"
      },
      "execution_count": null,
      "outputs": [],
      "source": [
        "for w in vocabulary:\n",
        "      countTable[w] = tokens.count(w)\n"
      ]
    },
    {
      "cell_type": "code",
      "metadata": {
        "id": "Sk1kM90xPdxD",
        "colab": {
          "base_uri": "https://localhost:8080/"
        },
        "outputId": "7f94e00d-6b2a-4205-b31a-624cd516e363"
      },
      "execution_count": null,
      "outputs": [
        {
          "output_type": "stream",
          "name": "stdout",
          "text": [
            "{'mansoul': 1, 'asia': 1, 'justly': 1, 'bespeak': 1, 'candles': 1, '121': 1, 'edmund': 2, 'less': 3, 'missionary': 1, 'could': 3, 'thomas': 3, 'falling': 1, 'then': 4, 'pains': 2, 'engaged': 2, 'fairie': 1, 'why': 1, '49': 1, 'herrings': 1, 'rear': 1, 'pilot': 1, 'reminded': 1, 'sub': 9, '82': 1, 'nothing': 4, '93': 1, 'endures': 1, 'gazers': 1, 'deepest': 1, 'lamp': 1, 'dutch': 2, 'clinched': 1, 'can': 5, 'erromangoan': 1, 'for': 30, 'open': 4, 'fold': 1, 'laying': 1, 'needles': 1, 'sw': 1, 'damp': 1, 'journal': 1, 'quarter': 1, 'observing': 1, 'anglo': 1, 'saco': 1, 'object': 1, 'sheet': 1, 'indian': 2, 'swords': 1, 'rainbows': 1, 'spouting': 1, 'have': 16, 'd': 5, 'mention': 1, 'mistake': 1, 'devilish': 1, 'body': 2, 'voice': 1, '1671': 1, 'especially': 1, 'fishes': 3, 'lath': 1, 'rock': 1, 'hypos': 1, 'boil': 1, 'ϰητος': 1, 'demanded': 1, 'right': 7, 'far': 2, 'element': 2, '58': 1, 'sea': 18, 'dissection': 1, 'thankless': 1, 'scanning': 1, 'masts': 1, 'belonged': 1, '52': 1, 'narrative': 4, 'placed': 1, 'say': 4, 'built': 1, 'pent': 1, 'maker': 1, '78': 1, 'go': 5, 'chapel': 1, 'mote': 1, 'warehouses': 2, 'time': 4, 'prey': 1, 'tom': 1, 'unpleasant': 1, 'streets': 2, 'u': 2, 'consideration': 2, 'subs': 1, 'wantonness': 1, 'dung': 1, 'ibid': 3, 'possessing': 1, 'gazette': 1, 'schools': 1, 'legs': 1, 'browne': 1, 'introduced': 1, 'trouble': 1, 'hugest': 2, 'spiles': 1, 'make': 2, 'expanded': 1, 'breaches': 1, '102': 1, 'fable': 2, 'inevitable': 1, 'rare': 1, 'mysterious': 1, 'catching': 1, 'feelings': 1, 'they': 25, 'her': 3, 'few': 2, 'from': 24, 'roundness': 1, 'proofreaders': 1, 'them': 11, 'dale': 1, 'mariner': 2, 'honor': 1, 'fancied': 1, 'comparison': 1, 'thousand': 2, 'horse': 1, 'ahab': 4, 'shine': 1, 'coffin': 3, 'immense': 2, 'fatter': 1, 'pine': 1, 'hearts': 3, 'horns': 1, 'write': 1, 'greenland': 2, 'isaiah': 1, 'inferior': 1, 'we': 11, 'nick': 1, '132': 1, 'heart': 3, 'hoops': 1, '81': 1, 'nine': 1, 'mat': 1, 'handkerchief': 1, 'erection': 1, 'balaene': 1, 'industry': 1, '28': 1, 'bringing': 1, 'magnitude': 2, 'etymology': 2, 'hvalt': 2, 'finally': 1, 'rolls': 1, 'were': 12, 'wharves': 1, 'profane': 2, 'spermaceti': 1, 'may': 4, 'probably': 2, 'paint': 3, 'loves': 1, 'set': 3, 'hval': 1, 'spitzbergen': 2, 'little': 4, 'desks': 1, 'baron': 1, '1846': 1, 'aorta': 1, 'terra': 1, 'silver': 1, '135': 1, 'excited': 1, 'valley': 1, '89': 1, 'soever': 1, 'former': 1, 'wanting': 1, 'raimond': 1, 'friend': 1, 'thither': 1, 'quantity': 3, '440': 1, 'mouthed': 1, 'let': 3, 'ian': 1, 'was': 18, 'benches': 1, '71': 1, 'gills': 1, 'moonlight': 1, 'numerous': 1, 'should': 5, 'fast': 1, 'drop': 1, 'knocking': 1, 'forty': 2, 'knights': 2, 'protecting': 1, 'armed': 2, 'monsters': 3, 'homeward': 1, 'song': 2, 'aloft': 3, 'breakfast': 1, 'sir': 9, 'againe': 1, 'attended': 1, '1668': 1, 'pekee': 1, 'returned': 1, 'coenties': 1, 'threatening': 1, 'receiving': 1, 'thousands': 2, 'ger': 1, 'take': 10, 'charm': 1, '8': 1, 'unbroken': 1, 'glancing': 1, 'pale': 3, 'veritable': 1, 'extracts': 5, 'gone': 3, 'their': 18, 'extremity': 1, 'spirit': 1, 'school': 2, 'looking': 1, 'down': 6, 'here': 8, 'picking': 1, 'troops': 1, 'entertaining': 1, 'size': 1, '123': 1, 'compasses': 1, 'arch': 1, 'desert': 1, 'dreamiest': 1, 'prepared': 1, 'beast': 3, 'ballena': 1, 'york': 1, '6': 1, 'free': 2, 'bennett': 1, 'things': 2, 'might': 3, 'voyage': 7, 'burke': 1, 'through': 7, 'astonishment': 1, 'shot': 1, 'speak': 1, 'every': 9, 'hundred': 1, 'west': 2, 'cracking': 1, 'bud': 1, 'towards': 3, 'gale': 1, 'log': 1, 'serves': 1, 'discover': 1, 'hill': 2, 'against': 2, 'lay': 1, 'south': 3, 'dusk': 1, 'thrown': 2, 'clear': 1, 'tongue': 1, 'am': 1, 'flood': 1, 'voyager': 1, '5': 1, 'grow': 2, 'deliberately': 1, 'clearing': 2, 'acres': 1, 'june': 1, 't': 3, 'currents': 1, 'everything': 1, 'john': 1, 'appeared': 1, 'artist': 1, '69': 1, 'just': 1, 'חו': 1, 'largest': 1, 'returne': 1, 'exceeding': 1, 'name': 1, 'vide': 1, 'ocean': 12, 'shrouds': 1, 'least': 2, 'generally': 2, 'love': 1, 'fixed': 3, 'nearly': 2, 'such': 4, 'scenes': 1, 'dan': 2, '3': 1, 'occasion': 1, 'breedeth': 1, 'tell': 1, 'tennessee': 1, 'abundance': 1, 'purchas': 1, '1652': 1, 'adding': 1, 'somehow': 1, 'sleepy': 1, 'queequeg': 1, 'fierceness': 1, 'rockets': 1, 'petticoat': 1, 'miriam': 1, 'city': 2, 'monster': 1, 'waterward': 1, 'does': 2, 'sleeps': 3, '35': 1, 'trust': 1, 'smell': 1, 'artificial': 1, 'carries': 1, 'expanse': 1, 'preserved': 1, 'content': 1, 'walw': 1, '108': 1, 'gam': 1, 'she': 5, 'kind': 2, '1690': 1, 'public': 1, 'bower': 1, 'suddenly': 1, 'climb': 1, 'express': 1, 'small': 1, 'bosom': 1, 'give': 1, 'threw': 1, 'insect': 1, 'path': 2, 'fly': 2, '67': 1, 'active': 1, 'circumnavigation': 1, 'hoary': 1, 'shoals': 1, '60': 1, 'etext': 1, 'sit': 2, 'warm': 1, 'flourish': 1, 'seen': 4, 'replied': 1, 'yes': 1, 'cetus': 1, 'fat': 1, 'among': 5, 'dick': 2, 'lightning': 2, 'recollect': 1, 'visited': 1, 'nescio': 1, 'samuel': 2, 'pasture': 1, 'scoresby': 1, 'killed': 5, '99': 1, 'methodically': 1, 'contents': 1, 'rears': 1, 'view': 5, 'valuable': 1, 'loitering': 1, 'battle': 2, 'bring': 1, 'latin': 2, 'slay': 1, 'nailed': 1, 'tyerman': 1, 'found': 2, 'crew': 2, 'inlanders': 1, '7': 1, 'shadiest': 1, 'seldom': 1, 'elizabeth': 1, 'china': 1, 'you': 21, 'leaning': 1, 'buy': 1, 'feel': 1, 'under': 2, 'ishmael': 1, 'form': 3, 'pequod': 5, '110': 1, 'voracious': 1, 'caught': 2, '33': 1, 'london': 3, 'cetology': 2, 'notes': 1, 'my': 5, '51': 1, 'hours': 1, 'brought': 2, 'table': 1, 'dust': 1, 'play': 2, 'soon': 1, 'serpent': 2, 'itself': 1, 'history': 4, 'dive': 1, '98': 1, 'no': 6, 'substitute': 1, 'leg': 2, 'seemingly': 1, 'lads': 1, 'when': 6, 'themselves': 1, 'trackless': 1, 'etexts': 1, 'buckets': 1, 'lowering': 1, 'gulp': 1, 'ship': 11, 'experiment': 1, 'job': 2, '107': 1, 'extremest': 1, 'herman': 1, 'pool': 1, 'fishermen': 1, 'floating': 2, 'meditation': 1, '54': 1, 'librarian': 2, 'lead': 2, 'where': 3, 'harpooned': 1, 'affidavit': 1, 'with': 36, 'mammiferous': 1, 'water': 15, 'sunset': 1, '73': 1, '19': 1, 'eye': 2, 'coming': 1, 'island': 1, 'melville': 1, 'queer': 1, '105': 1, 'william': 2, 'whaling': 7, '4': 1, '70': 1, 'astir': 1, 'piping': 1, '59': 1, 'absent': 1, 'sand': 1, 'ashore': 2, 'vicinity': 1, 'catched': 1, 'essex': 1, 'rev': 1, 'true': 4, '43': 1, 'tree': 2, 'learned': 1, 'instincts': 1, 'onset': 1, 'ork': 1, 'doubt': 1, 'moral': 1, 'living': 2, 'handfuls': 1, 'millions': 1, 'leaping': 1, 'the': 388, 'tranced': 1, 'eyes': 1, 'kill': 2, 'africa': 1, 'project': 2, 'papers': 1, 'paradise': 1, 'owen': 1, 'impossible': 1, 'extended': 1, 'would': 8, '11': 1, 'foam': 1, 'wave': 1, 'curiosity': 1, 'unless': 1, 'winds': 1, 'supplied': 4, 'grove': 1, 'answered': 2, 'christmas': 1, 'cowper': 1, 'skeleton': 1, 'squid': 1, '111': 1, '120': 1, 'empty': 1, 'cut': 1, 'mirabilis': 1, 'disposition': 1, 'newspaper': 1, 'rebounds': 1, 'species': 1, 'lowly': 1, 'epilogue': 1, 'grub': 1, 'dinting': 1, 'queen': 2, '62': 1, 'sung': 2, 'poet': 1, 'frequently': 3, 'appliance': 1, 'extreme': 1, 'observers': 1, 'behind': 2, 'wallen': 1, 'commodore': 1, 'purpose': 1, 'hook': 1, 'too': 3, 'higgledy': 1, 'sturgeon': 1, 'modern': 1, 'art': 2, 'crowds': 2, 'observed': 1, 'attends': 1, 'going': 2, 'made': 2, 'sebond': 1, 'blackstone': 1, 'wealth': 1, 'prairies': 1, 'bruise': 1, 'sing': 2, 'court': 1, 'two': 5, 'god': 3, 'combination': 1, 'morals': 1, 'comstock': 2, 'breezes': 1, 'fire': 2, '103': 1, 'barrel': 1, 'manhattoes': 1, 'elsewhere': 1, 'call': 2, 'off': 4, 'defunct': 1, 'within': 3, 'branch': 1, 'thou': 2, 'left': 1, 'leaves': 2, 'if': 8, 'watery': 1, 'specksnyder': 1, '75': 1, '16': 1, 'look': 4, 'best': 1, 'now': 7, 'relate': 1, 'gateway': 1, 'pacing': 1, 'mere': 2, 'these': 9, 'spurs': 1, 'fields': 1, 'mazy': 1, 'insupportable': 1, 'symphony': 1, 'enter': 2, 'creatures': 1, 'roaring': 1, 'book': 1, 'atlantic': 1, 'three': 1, 'embellished': 1, 'regulating': 1, 'merry': 1, 'whale': 77, 'attacked': 1, 'plainly': 1, '34': 1, 'bridge': 1, 'dreamy': 1, 'even': 3, 'stranded': 1, 'exclaimed': 1, '112': 1, 'hebrew': 1, '84': 1, 'stubb': 3, 'cruise': 2, 'sentence': 1, 'infallibly': 1, '79': 1, 'led': 1, 'teach': 1, '1778': 1, 'pliny': 1, 'stepping': 1, 'arpens': 1, 'self': 1, 'chowder': 1, '83': 1, 'momentary': 1, 'commonwealth': 1, 'desires': 1, 'nightgown': 1, 'unerring': 1, '116': 1, 'hind': 1, '39': 1, 'gallons': 1, 'possible': 1, 'limit': 1, 'authentic': 1, 'destroyed': 2, 'coll': 2, 'yonder': 2, 'bluntly': 1, 'kinross': 1, 'signification': 1, 'animals': 1, 'hamlet': 1, 'horrid': 1, 'strong': 3, 'strange': 1, 'wade': 1, 'america': 1, 'property': 1, 'worm': 1, 'utterly': 1, 'dut': 1, 'virtue': 1, '87': 1, 'try': 3, 'others': 1, 'rope': 2, 'v': 1, 'apology': 1, 'point': 1, 'steel': 1, '72': 1, 'sometimes': 2, 'poor': 4, 'smith': 1, 'transactions': 1, 'rodmond': 1, 'sport': 1, 'lives': 1, 'national': 2, 'fare': 1, 'find': 4, 'an': 8, 'entirely': 1, 'mate': 2, 'sphynx': 1, 'requires': 2, 'sylphs': 1, 'rape': 1, 'squires': 2, 'annals': 1, 'enrolled': 1, 'calm': 1, '92': 1, 'afraid': 1, 'french': 1, 'fresh': 1, 'bit': 2, 'your': 10, 'witnessing': 1, 'departed': 1, 'pampered': 1, 'summer': 1, 'venture': 1, 'bright': 1, 'soul': 1, 'royal': 2, 'stretched': 1, 'dangerous': 1, 'pipe': 3, '128': 1, 'gay': 1, 'deck': 3, 'talk': 1, 'rosy': 1, 'worker': 1, 'blew': 1, 'equal': 1, 'bathed': 1, 'out': 12, 'very': 3, 'goethe': 1, 'boiling': 1, 'resulting': 1, 'ponderous': 1, 'ye': 5, '77': 1, '27': 1, 'stove': 1, 'sides': 1, 'end': 1, 'run': 1, 'retires': 1, 'starbuck': 1, 'driving': 1, 'cuvier': 1, 'captors': 1, 'cabin': 3, 'fifteen': 1, 'sized': 1, 'chief': 1, 'version': 5, 'surmises': 1, 'points': 1, 'domes': 1, 'crews': 2, 'romantic': 1, 'resounds': 1, 'loomings': 2, 'maine': 1, 'manner': 1, 'will': 12, 'nantuckois': 1, 'hackluyt': 1, '1772': 1, 'letter': 2, 'ignorance': 1, 'that': 43, '1840': 1, 'entrances': 1, 'near': 6, 'root': 1, 'swallowed': 2, 'there': 18, 'whom': 3, 'came': 3, 'bloody': 1, 'called': 4, 'peopling': 1, 'biggest': 1, 'therein': 1, 'aground': 1, 'random': 1, 'extending': 1, 'said': 5, 'gothic': 1, 'trucks': 1, 'dreadful': 1, 'somewhere': 1, 'attacks': 1, 'slip': 1, 'state': 1, 'whales': 25, 'iceland': 1, 'bottomless': 1, 'richard': 1, 'besides': 2, 'abundant': 1, 'holy': 1, 'hist': 1, 'waves': 2, 'virgin': 1, 'late': 2, 'measurement': 1, 'informed': 1, 'garden': 1, 'dart': 2, 'progress': 1, 'neglected': 1, 'home': 1, 'indirectly': 1, '1839': 1, 'spouter': 1, 's': 3, 'sherry': 1, 'dived': 1, 'counters': 1, 'i': 19, '63': 1, 'lost': 2, 'spiral': 1, 'shore': 4, 'metaphysical': 1, 'indebted': 1, 'agreed': 1, 'perhaps': 1, 'pursued': 1, 'trans': 1, 'carry': 1, 'works': 3, 'is': 46, 'minded': 1, 'ex': 2, 'straight': 1, 'consumptive': 1, 'refugees': 1, 'fellow': 1, 'punish': 1, 'reaching': 1, 'northward': 2, 'memorial': 1, '131': 1, 'quietly': 1, 'grand': 2, 'harris': 2, 'ago': 1, 'hark': 1, 'particular': 1, 'promontory': 2, 'sword': 2, 'therefore': 1, 'also': 3, 'armada': 1, 'children': 1, 'day': 4, 'minister': 1, 'quid': 1, '48': 1, 'whœl': 1, 'striving': 1, 'nuee': 4, 'breath': 2, 'assault': 1, 'work': 1, 'glory': 1, 'shetland': 1, 'long': 4, 'skill': 1, 'beech': 1, 'dusting': 1, 'southern': 1, 'speech': 1, 'whip': 1, 'curved': 1, 'many': 4, 'sacred': 1, 'infuriated': 1, 'pictures': 3, '500': 1, 'bred': 1, 'tun': 1, 'wears': 1, 'compare': 2, 'colour': 1, 'unpublished': 1, 'pistol': 1, 'town': 2, 'named': 1, 'well': 3, 'thar': 1, '1729': 1, 'n': 2, 'short': 1, 'distended': 1, 'dread': 2, 'visit': 2, '68': 1, 'haunts': 2, '133': 1, 'mountains': 2, 'vaulted': 1, 'gateways': 1, 'copy': 1, 'belongest': 1, 'doubloon': 1, 'a': 127, '47': 1, 'ten': 2, 'spouted': 1, 'ribs': 3, 'hear': 1, 'monstrous': 3, 'rose': 1, 'promiscuously': 1, 'inn': 1, 'vessel': 4, 'master': 1, 'shone': 1, 'ahoy': 1, 'get': 4, '32': 1, 'laid': 1, 'seem': 1, 'but': 20, 'shall': 5, 'bound': 2, 'sixty': 1, 'comrades': 1, 'rigging': 1, '30': 1, 'lee': 3, 'alone': 1, 'tuileries': 1, 'fifty': 2, 'capture': 1, 'saws': 1, 'michael': 1, 'sail': 3, 'ships': 4, 'money': 1, '91': 1, '90': 1, 'obed': 1, 'loose': 1, '117': 1, 'wine': 1, 'by': 35, '46': 1, 'biography': 1, 'patient': 1, 'disorder': 1, 'purse': 1, 'carpet': 1, 'vain': 1, 'wharton': 1, 'revenue': 1, 'lexicons': 1, 'vessels': 1, 'boat': 6, 'baleen': 1, 'generations': 1, 'including': 1, 'enchanting': 1, 'burrower': 1, 'directly': 1, 'sure': 1, 'wood': 2, 'wake': 1, 'destruction': 1, 'motion': 1, 'come': 4, 'grounded': 1, 'driven': 1, 'icelandic': 1, 'hyena': 1, 'think': 1, 'making': 1, 'shoal': 1, '14': 1, 'ever': 6, 'incontinently': 1, 'wounded': 2, 'hosmannus': 1, 'swims': 1, 'lime': 1, 'grammars': 2, 'crotch': 1, 'wallow': 1, 'after': 2, 'unsplinterable': 1, 'io': 1, 'boundless': 1, 'insomuch': 1, 'savages': 1, 'stowing': 1, 'corlears': 1, 'chosen': 1, 'statements': 1, 'paine': 1, 'different': 1, 'largely': 1, 'large': 4, 'altogether': 2, 'year': 2, 'side': 3, 'peep': 1, 'possibly': 1, 'erroneous': 1, 'noble': 2, 'asiatics': 1, 'ordinary': 1, 'hast': 1, 'never': 3, 'historically': 1, 'supposed': 1, 'sleep': 1, 'shipwreck': 2, 'trunk': 1, 'solely': 1, 'forecastle': 2, 'cottage': 2, 'weight': 1, 'bones': 3, 'ruin': 1, 'pulpit': 1, 'brain': 2, 'men': 4, 'thence': 1, 'certain': 1, 'devil': 2, 'polar': 1, 'created': 3, 'green': 2, 'cartloads': 1, '21': 1, 'waste': 1, 'belted': 1, 'persevering': 1, '18': 1, 'fuzzing': 1, 'country': 3, 'tow': 1, 'touching': 1, 'tremendous': 1, 'suffice': 1, 'gushing': 1, 'unite': 1, 'rushes': 1, 'important': 2, 'grim': 1, 'half': 1, 'order': 3, 'boldness': 1, '95': 1, 'perish': 1, 'not': 11, 'triumph': 1, 'quadrant': 1, 'cooled': 1, 'either': 3, 'population': 1, 'noise': 1, 'phospher': 1, 'chewing': 1, 'pitchpoling': 1, 'forge': 1, '40': 2, 'monkey': 1, 'ambergris': 1, '23': 1, 'hit': 1, 'fangs': 1, 'jaws': 4, 'forward': 1, 'swim': 2, 'american': 2, 'spermacetti': 3, 'tales': 2, 'chart': 1, 'swedish': 1, 'shakes': 2, 'striking': 2, 'attack': 2, '56': 1, 'adelaide': 1, 'yards': 2, 'mutineer': 1, '96': 1, 'tears': 2, 'habitudes': 1, 'and': 143, 'nigh': 1, 'respect': 1, 'domain': 1, 'e': 3, 'flags': 1, 'j': 1, 'bulk': 1, 'leaving': 1, 'main': 2, 'hie': 1, 'opening': 1, 'carpenter': 2, '119': 1, 'debell': 1, 'survivors': 1, '1828': 2, 'passage': 3, 'lanes': 1, 'mortality': 1, 'reveries': 1, 'deal': 1, 'while': 1, 'way': 4, 'vaticans': 1, 'did': 3, 'virginia': 2, '57': 1, 'poets': 1, 'each': 2, 'nut': 1, 'nature': 2, 'fell': 1, 'anno': 1, 'competent': 1, 'civitas': 1, '25': 1, 'fish': 6, 'endeavor': 1, 'cherish': 1, 'fuego': 1, 'snaps': 1, 'six': 2, 'than': 7, 'scores': 2, 'mid': 1, 'towing': 1, 'manage': 1, '13': 2, 'peculiar': 1, 'night': 3, 'gilder': 1, 'wal': 1, '113': 1, 'affording': 1, 'cannot': 1, 'distant': 1, 'wide': 2, 'lie': 1, 'me': 9, 'hwal': 1, 'involuntarily': 1, '66': 1, 'us': 5, 'hat': 1, 'stuffed': 1, 'street': 3, 'frederick': 1, 'attract': 1, 'or': 28, 'greek': 1, 'propelled': 1, '17': 1, 'commercial': 2, 'coast': 2, 'castaway': 1, 'seems': 1, '129': 1, 'repair': 1, 'ramadan': 1, 'impetus': 1, 'upright': 1, 'deep': 5, 'death': 2, '36': 1, 'story': 2, 'splintered': 1, 'wedded': 1, 'pursuit': 1, 'been': 7, 'primer': 1, 'tiger': 1, 'told': 4, 'knows': 1, 'secure': 1, 'board': 2, 'portion': 1, 'battering': 1, 'charge': 1, 'fail': 2, 'massacre': 1, 'picture': 1, 'saith': 1, 'cassock': 1, 'hands': 1, 'conceal': 1, 'years': 4, 'wish': 1, '115': 1, 'enemies': 1, 'turning': 1, 'special': 1, 'obey': 1, 'landscape': 1, 'verbal': 1, 'whalemen': 1, 'india': 1, 'whatever': 1, 'damn': 1, 'what': 9, 'liver': 1, 'bow': 1, 'shores': 1, '130': 1, '126': 1, 'northern': 1, 'seven': 2, 'return': 1, 'whitehall': 1, 'mass': 1, 'spout': 1, 'silent': 1, 'close': 2, 'heaven': 1, 'authors': 1, 'bag': 1, 'compared': 1, 'into': 8, 'account': 3, 'mole': 1, '31': 1, 'struck': 1, 'magnetic': 1, 'part': 1, 'stars': 1, 'habits': 1, 'sabbath': 1, 'robbers': 1, 'dictionary': 3, 'crucifix': 1, 'bread': 1, 'english': 3, 'language': 1, 'webster': 1, 'availle': 1, 'extracted': 1, 'he': 22, '104': 1, 'whites': 1, 'biographical': 1, 'inward': 1, 'previous': 1, 'turn': 1, 'flail': 1, 'fishery': 2, 'tail': 4, 'him': 13, 'pray': 1, 'friends': 1, 'funeral': 2, 'maketh': 3, 'first': 7, 'ancient': 1, 'since': 1, 'whatsoever': 1, 'appearing': 1, 'sight': 1, 'pair': 1, 'blanket': 1, 'crooked': 1, 'discoverer': 1, 'preface': 1, 'fountain': 1, 'employs': 1, 'this': 19, 'convivial': 1, 'possessed': 1, 'seethe': 1, 'sixth': 1, 'boats': 4, 'man': 3, 'air': 4, 'allusions': 1, 'length': 3, '38': 1, 'arched': 1, 'moving': 1, 'proceed': 1, '41': 1, '76': 1, 'eight': 2, '2': 1, 'amounted': 1, 'storm': 1, 'talus': 1, 'restless': 1, 'vents': 1, 'whirlpooles': 1, 'dead': 1, 'covered': 1, 'raal': 1, 'bulwarks': 2, 'hooked': 1, 'on': 24, 'value': 1, 'danish': 1, 'heads': 3, 'known': 4, 'elbe': 1, 'twice': 1, 'perisheth': 1, 'unwieldy': 1, 'november': 1, 'afford': 1, 'hopeless': 1, 'mutiny': 1, 'piercing': 1, 'chase': 1, 'send': 1, 'offensively': 1, 'degrees': 1, 'hussey': 1, 'sighs': 1, 'cometh': 1, 'assaulted': 1, 'circumambulate': 1, 'formidable': 1, 'library': 1, 'same': 3, 'goes': 2, 'pan': 1, 'king': 6, 'moby': 2, 'one': 19, 'colt': 1, 'growing': 1, '55': 1, 'those': 4, 'mast': 4, 'thought': 2, 'gaping': 1, 'harpooneer': 1, 'heavens': 1, 'throw': 1, 'matter': 2, 'coat': 1, 'weapon': 1, 'must': 3, 'nantucket': 8, 'shoulders': 1, '74': 1, '1821': 1, 'wheelbarrow': 1, 'seas': 3, 'immediately': 2, 'barbed': 1, 'to': 104, 'line': 3, 'swallow': 3, 'however': 1, 'huge': 2, 'all': 21, 'his': 44, 'attend': 1, '86': 1, 'whether': 4, 'thirty': 1, 'peaceful': 1, 'albatross': 1, 'interesting': 1, 'application': 1, 'east': 1, 'reference': 1, 'old': 4, 'mightier': 1, 'magic': 2, 'daniel': 1, 'delight': 1, 'landsmen': 1, 'hand': 3, 'chace': 3, 'jonas': 1, 'employ': 1, '80': 1, 'displays': 1, 'how': 4, 'regular': 1, 'sperm': 8, 'setting': 1, 'myself': 3, 'meadow': 1, 'october': 1, 'powerful': 1, '64': 1, 'failed': 1, 'pitferren': 1, 'chapter': 137, 'cheever': 1, 'only': 3, 'original': 1, 'midnight': 3, 'fedallah': 1, 'gudgeon': 1, 'chaos': 1, 'alfred': 1, 'boldest': 1, '122': 1, 'taken': 2, 'around': 4, 'articles': 1, 'convenient': 1, '15': 1, 'johnson': 1, 'velocity': 2, 'sallow': 1, '88': 1, 'rabelais': 1, 'coral': 1, 'battery': 1, 'iron': 1, 'possession': 1, 'hollow': 1, 'fence': 1, '134': 1, 'needle': 1, 'at': 17, 'cheery': 1, 'any': 5, 'it': 32, 'north': 1, 'threatens': 1, 'whereas': 1, 'artful': 1, 'conversations': 1, 'hang': 1, 'new': 2, 'hobomack': 1, 'circulation': 1, 'mildly': 1, 'interest': 2, 'almost': 3, 'isles': 1, 'postscript': 1, 'himself': 2, 'dish': 1, 'swam': 1, 'roofs': 1, 'goldsmith': 2, 'oakes': 1, 'whenever': 4, 'caution': 1, 'surf': 1, 'miles': 5, 'bermudas': 1, 'plunged': 1, 'charles': 1, 'tenth': 1, '22': 1, 'leviathan': 12, '114': 1, 'arsacides': 1, 'monument': 1, 'security': 1, 'glasses': 2, 'lock': 1, 'away': 1, 'sentinels': 1, '127': 1, 'breakwater': 1, '10': 2, 'above': 1, 'stream': 3, 'europe': 1, 'theology': 1, 'twelve': 1, 'alcoves': 1, 'whose': 2, 'parmacetti': 1, 'watch': 3, 'athirst': 1, 'thus': 1, 'cruize': 1, 'musket': 1, 'animal': 5, 'thing': 2, 'our': 4, 'joy': 1, 'strike': 2, 'report': 1, 'killer': 1, 'bore': 1, 'teeth': 2, 'paunch': 1, 'shady': 1, 'h': 1, 'juniper': 1, 'adventures': 1, 'fierce': 1, 'rachel': 1, 'see': 7, 'mind': 1, 'niagara': 1, 'belly': 1, 'piggledy': 1, 'spouts': 1, 'beating': 1, 'another': 1, 'sharks': 1, 'prophet': 2, 'finny': 1, 'mr': 2, 'ducat': 1, 'brit': 1, 'phil': 1, 'proceeded': 1, 'flies': 1, 'world': 6, 'pretty': 1, 'persons': 2, 'weapons': 1, 'ross': 1, '45': 1, 'paean': 1, 'cataract': 1, 'davenant': 1, '37': 1, 'of': 183, 'mischievous': 1, 'fife': 2, 'breast': 1, 'lance': 1, 'outs': 1, 'sat': 1, 'being': 7, 'os': 1, 'washed': 1, 'life': 4, 'vast': 5, 'annus': 1, 'swimming': 2, 'gabriel': 1, 'raphael': 1, 'naturalist': 1, 'stand': 4, 'rushed': 1, 'be': 17, 'cutting': 1, 'aboard': 1, 'retaking': 1, 'buoy': 1, 'drizzly': 1, 'appearance': 1, 'nat': 1, 'knee': 1, 'fossil': 1, 'its': 7, 'cistern': 1, 'distance': 1, 'jonah': 3, 'agonies': 1, 'hats': 1, 'so': 9, 'overlapping': 1, 'as': 30, 'knew': 1, 'sunrise': 1, 'preble': 1, 'henry': 2, 'about': 4, 'own': 2, 'commentator': 1, '20': 1, 'blacksmith': 1, 'cato': 1, 'flask': 1, 'more': 7, 'emerged': 1, 'branches': 1, 'some': 17, 'abode': 1, 'gospel': 1, 'rolling': 1, 'gondibert': 1, 'happen': 1, 'enormous': 1, '100': 1, 'steady': 1, 'vault': 1, 'avoid': 1, 'high': 5, 'spleen': 1, 'uno': 1, 'bodies': 1, 'clews': 1, 'lakes': 1, 'throws': 1, 'region': 2, 'christian': 1, 'von': 1, 'islands': 2, 'appear': 1, '65': 1, 'sort': 1, 'sprat': 1, 'globe': 5, 'diminish': 1, 'hermit': 1, 'pehee': 1, 'nations': 2, 'hampton': 1, 'oft': 1, 'oil': 4, 'pausing': 1, 'heidelburgh': 1, 'occurred': 1, 'days': 3, 'sperma': 3, 'other': 7, 'spanish': 1, 'philosophical': 1, 'front': 1, '61': 1, 'lord': 3, '44': 1, 'has': 4, 'harpooneers': 1, 'cattle': 1, 'susan': 1, 'voyages': 4, 'sprout': 1, 'till': 3, 'doubtless': 1, 'butt': 1, 'still': 1, 'are': 16, 'painstaking': 1, 'caravan': 1, 'like': 9, 'mortal': 1, '125': 1, 'contemptible': 1, 'sovereignest': 1, '124': 1, 'beneath': 1, '106': 1, 'advocate': 1, 'del': 1, 'trees': 1, 'fear': 1, '890': 1, 'meets': 5, 'loved': 1, 'round': 4, 'blue': 1, 'eighty': 1, 'deliberate': 1, 'brother': 1, 'usher': 1, 'larger': 2, 'genesis': 1, '26': 1, 'something': 1, 'squeeze': 1, 'had': 12, 'university': 1, 'ball': 2, 'perpendicularly': 1, 'creation': 1, 'before': 6, 'white': 1, 'much': 3, '24': 1, 'feet': 4, 'stroke': 1, 'meet': 2, 'mockingly': 1, 'yet': 2, 'guarding': 1, 'slowly': 1, 'withdrawn': 1, 'gathered': 1, 'earth': 3, 'senate': 1, '9': 1, 'regarded': 2, 'dying': 1, 'o': 1, 'most': 8, 'supper': 1, 'foul': 1, 'though': 4, 'kills': 1, 'grammar': 1, 'storied': 1, 'anyways': 1, 'fry': 1, 'bethink': 1, '97': 1, 'counterpane': 1, 'forced': 1, 'swiftness': 2, 'land': 6, 'male': 1, 'fisherman': 1, 'floundered': 2, 'blows': 3, '12': 1, 'furious': 1, 'seemed': 1, 'preserving': 1, 'reciprocal': 1, 'totally': 1, 'stage': 1, 'gate': 1, 'degree': 1, 'flounders': 1, 'stern': 1, 'case': 1, 'address': 1, 'bold': 2, 'approach': 1, 'roll': 1, 'surrounds': 1, 'tied': 1, 'please': 2, 'parried': 1, 'do': 3, 'received': 1, 'blood': 2, 'up': 18, '101': 1, 'again': 1, 'wind': 2, 'having': 1, 'taking': 1, 'tails': 1, 'stone': 3, 'full': 1, 'professor': 1, 'in': 118, 'decanter': 1, 'suspends': 1, 'lucian': 1, 'hard': 1, 'pikes': 1, 'dragon': 1, 'back': 1, 'great': 16, 'seaward': 1, 'insular': 1, 'lies': 1, 'names': 1, 'woodlands': 1, 'ceti': 3, 'moment': 1, 'upon': 11, 'surprising': 1, 'arm': 1, 'mark': 1, '118': 1, 'fegee': 1, 'afternoon': 2, 'archives': 1, '29': 1, 'psalms': 2, 'note': 1, 'hell': 1, 'tech': 2, 'opportunities': 1, 'raising': 1, 'incredible': 1, 'saxon': 1, 'draws': 1, 'arches': 1, 'better': 2, 'saw': 11, 'eris': 1, 'deliver': 1, 'instant': 1, 'chance': 1, 'ram': 1, 'mighty': 2, 'bone': 1, 'upper': 1, 'letters': 1, 'head': 10, 'week': 1, 'shark': 1, 'captain': 2, 'spires': 1, '109': 1, 'female': 1, 'downtown': 1, 'smoke': 1, 'stalls': 1, 'thee': 1, 'without': 4, 'pier': 1, '85': 1, 'thirteen': 1, 'travel': 1, '53': 1, 'prairie': 1, 'ay': 2, 'tribe': 2, 'eagerly': 1, 'seated': 1, 'berlin': 1, 'mab': 1, 'once': 4, 'schoolmasters': 1, 'sporting': 2, '42': 1, 'dimmed': 1, 'quietest': 1, 'sermon': 1, 'prevent': 2, 'wheel': 1, 'appears': 2, 'arctic': 1, 'text': 2, '94': 1, 'etchings': 1, 'gulf': 2, 'pipes': 1, 'giant': 1, 'mystic': 1, 'word': 1, 'alleys': 1, '1': 2, 'jaw': 2, 'parliament': 1, 'moses': 1, '50': 1, 'sore': 1, 'whiteness': 1, 'which': 23, 'mouth': 6, 'bachelor': 1, 'over': 7, 'who': 3, 'four': 2, 'terrify': 1, 'principle': 1, 'pirates': 1, 'gleamed': 1, 'described': 1, 'pacific': 3}\n"
          ]
        }
      ],
      "source": [
        "print(countTable)\n"
      ]
    },
    {
      "cell_type": "markdown",
      "metadata": {
        "id": "oZHsO3JZPdxF"
      },
      "source": [
        "Calculates and prints the probability of the word 'the' appearing in the text."
      ]
    },
    {
      "cell_type": "code",
      "metadata": {
        "id": "lnVPuzCjPdxH",
        "colab": {
          "base_uri": "https://localhost:8080/"
        },
        "outputId": "4a859c7c-7e41-4a55-ffae-245716efcce7"
      },
      "execution_count": null,
      "outputs": [
        {
          "output_type": "stream",
          "name": "stdout",
          "text": [
            "Test case: The probability of seeing the word 'the' is 7.76\n"
          ]
        }
      ],
      "source": [
        "print(\"Test case: The probability of seeing the word 'the' is\", 100*countTable['the']/len(tokens))\n"
      ]
    },
    {
      "cell_type": "markdown",
      "metadata": {
        "id": "ej4oFxLMPdxH"
      },
      "source": [
        "Records the end time of the program execution."
      ]
    },
    {
      "cell_type": "code",
      "metadata": {
        "id": "AUM9eDkRPdxH"
      },
      "execution_count": null,
      "outputs": [],
      "source": [
        "endTime = time.perf_counter()\n"
      ]
    },
    {
      "cell_type": "markdown",
      "metadata": {
        "id": "7p_XUHiTPdxI"
      },
      "source": [
        "Calculates and prints the total execution time."
      ]
    },
    {
      "cell_type": "code",
      "metadata": {
        "id": "P5dNV0UqPdxJ",
        "colab": {
          "base_uri": "https://localhost:8080/"
        },
        "outputId": "1b941e9c-0b1f-4ccd-b05b-4ebe6edb661a"
      },
      "execution_count": null,
      "outputs": [
        {
          "output_type": "stream",
          "name": "stdout",
          "text": [
            "5000 \t 82.642367834\n"
          ]
        }
      ],
      "source": [
        "print(5000, '\\t', endTime - startTime)"
      ]
    },
    {
      "cell_type": "markdown",
      "source": [
        "# Reflect on what this code taught you with your pair\n",
        "\n",
        "Outer Loop (for w in vocabulary):\n",
        "\n",
        "Iterates over all unique words in the vocabulary.\n",
        "If there are M unique words, this loop runs M times.\n",
        "\n",
        "\n",
        "Inner Operation (tokens.count(w)):\n",
        "\n",
        "For each word w, the tokens.count(w) method:\n",
        "Scans the entire tokens list to count occurrences of w.\n",
        "This takes O(N) time, where N is the number of tokens.\n",
        "\n",
        "Overall Complexity:\n",
        "\n",
        "The outer loop runs M times.\n",
        "For each iteration of the outer loop, tokens.count(w) runs in O(N) time.\n",
        "Thus, the total time complexity is O(M × N).\n",
        "\n",
        "Why This is Inefficient\n",
        "\n",
        "Repetitive Work:\n",
        "The tokens.count(w) operation scans the entire tokens list for each word in the vocabulary.\n",
        "\n",
        "If the vocabulary size (M) is large and the tokens list (N) is also large, this becomes computationally expensive.\n",
        "\n",
        "Scalability Issues:\n",
        "For example:\n",
        "If there are 1,000 unique words (M = 1000) and 10,000 tokens (N = 10000), the algorithm performs 1,000 × 10,000 = 10,000,000 operations.\n",
        "As N and M grow, the performance deteriorates rapidly, making the algorithm unsuitable for large datasets."
      ],
      "metadata": {
        "id": "OMYdQhgWx6HF"
      }
    }
  ]
}